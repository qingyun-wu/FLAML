{
 "metadata": {
  "language_info": {
   "codemirror_mode": {
    "name": "ipython",
    "version": 3
   },
   "file_extension": ".py",
   "mimetype": "text/x-python",
   "name": "python",
   "nbconvert_exporter": "python",
   "pygments_lexer": "ipython3",
   "version": "3.8.10-final"
  },
  "orig_nbformat": 2,
  "kernelspec": {
   "name": "python381064bitfairmlconda7f35e134896d42d4aea081ec0a18018a",
   "display_name": "Python 3.8.10 64-bit ('fairml': conda)"
  }
 },
 "nbformat": 4,
 "nbformat_minor": 2,
 "cells": [
  {
   "cell_type": "markdown",
   "metadata": {},
   "source": [
    "## Load dataset"
   ]
  },
  {
   "cell_type": "code",
   "execution_count": null,
   "metadata": {},
   "outputs": [],
   "source": []
  },
  {
   "cell_type": "code",
   "execution_count": 8,
   "metadata": {
    "tags": []
   },
   "outputs": [],
   "source": [
    "\"\"\"Load dataset\"\"\"\n",
    "from sklearn.datasets import fetch_openml\n",
    "import pandas as pd\n",
    "import numpy as np\n",
    "import matplotlib.pyplot as plt\n",
    "data = fetch_openml(data_id=1590, as_frame=True)\n",
    "X_raw = data.data\n",
    "X = pd.get_dummies(data.data)\n",
    "y_true = (data.target == '>50K') * 1\n",
    "# print(X[0:5])\n",
    "# print(X_raw[0:5])\n",
    "# print(Y[0:5])"
   ]
  },
  {
   "cell_type": "code",
   "execution_count": 7,
   "metadata": {},
   "outputs": [
    {
     "output_type": "execute_result",
     "data": {
      "text/plain": "Male      32650\nFemale    16192\nName: sex, dtype: int64"
     },
     "metadata": {},
     "execution_count": 7
    }
   ],
   "source": [
    "\"\"\"Treating the sex of each individual as a sentitive feature\"\"\"\n",
    "sex = data.data['sex']\n",
    "sex.value_counts()\n",
    "# A = X_raw[\"sex\"]\n",
    "# X = X_raw.drop(labels=['sex'], axis=1)\n",
    "# X = pd.get_dummies(X)\n",
    "\n",
    "# sc = StandardScaler()\n",
    "# X_scaled = sc.fit_transform(X)\n",
    "# X_scaled = pd.DataFrame(X_scaled, columns=X.columns)\n",
    "\n",
    "# le = LabelEncoder()\n",
    "# Y = le.fit_transform(Y)"
   ]
  },
  {
   "cell_type": "markdown",
   "metadata": {},
   "source": [
    "## Evaluating fairness-related metrics"
   ]
  },
  {
   "cell_type": "code",
   "execution_count": 33,
   "metadata": {
    "tags": []
   },
   "outputs": [
    {
     "output_type": "stream",
     "name": "stdout",
     "text": "0.86368289586831\nsex\nFemale    0.931015\nMale      0.830291\nName: accuracy_score, dtype: object\ndisparity: 0.10072435142758562\ntime taken: 0.35779690742492676\n"
    }
   ],
   "source": [
    "from fairlearn.metrics import MetricFrame\n",
    "from sklearn.metrics import accuracy_score\n",
    "from sklearn.tree import DecisionTreeClassifier\n",
    "import time\n",
    "start_time = time.time()\n",
    "classifier = DecisionTreeClassifier(min_samples_leaf=100, max_depth=40)\n",
    "classifier.fit(X, y_true)\n",
    "y_pred = classifier.predict(X)\n",
    "finish_time = time.time()\n",
    "gm = MetricFrame(accuracy_score, y_true, y_pred, sensitive_features=sex)\n",
    "print(gm.overall)\n",
    "print(gm.by_group)\n",
    "print('disparity:', gm.by_group[0] - gm.by_group[1])\n",
    "print('time taken:', finish_time-start_time)"
   ]
  },
  {
   "cell_type": "markdown",
   "metadata": {},
   "source": [
    "## Mitigating disparity"
   ]
  },
  {
   "cell_type": "code",
   "execution_count": 35,
   "metadata": {
    "tags": []
   },
   "outputs": [
    {
     "output_type": "stream",
     "name": "stdout",
     "text": "0.8594447401826297\nsex\nFemale    0.917861\nMale      0.830475\nName: accuracy_score, dtype: object\ndisparity: 0.08738593993063337\ntime taken: 68.59321928024292\n"
    }
   ],
   "source": [
    "# Using ExponentiatedGradient as the mitigation approach\n",
    "from fairlearn.reductions import ExponentiatedGradient, DemographicParity, EqualizedOdds\n",
    "np.random.seed(0)  # set seed for consistent results with ExponentiatedGradient\n",
    "constraint = EqualizedOdds()\n",
    "start_time = time.time()\n",
    "classifier = DecisionTreeClassifier(min_samples_leaf=100, max_depth=40)\n",
    "mitigator = ExponentiatedGradient(classifier, constraint)\n",
    "mitigator.fit(X, y_true, sensitive_features=sex)\n",
    "y_pred_mitigated = mitigator.predict(X)\n",
    "finish_time = time.time()\n",
    "sr_mitigated = MetricFrame(accuracy_score, y_true, y_pred_mitigated, sensitive_features=sex)\n",
    "print(sr_mitigated.overall)\n",
    "print(sr_mitigated.by_group)\n",
    "print('disparity:', sr_mitigated.by_group[0] - sr_mitigated.by_group[1])\n",
    "print('time taken:', finish_time-start_time)"
   ]
  },
  {
   "cell_type": "code",
   "execution_count": null,
   "metadata": {},
   "outputs": [],
   "source": [
    "# All possible mitigation, constraints in fairlearn\n",
    "from fairlearn.reductions import GridSearch, ExponentiatedGradient\n",
    "from fairlearn.reductions import AbsoluteLoss\n",
    "from fairlearn.reductions import Moment, ClassificationMoment, UtilityParity, DemographicParity, EqualizedOdds, \\\n",
    "    TruePositiveRateParity, FalsePositiveRateParity, ErrorRateParity, ErrorRate, BoundedGroupLoss, LossMoment, SquareLoss, ZeroOneLoss"
   ]
  },
  {
   "cell_type": "markdown",
   "metadata": {},
   "source": [
    "## Observations\n",
    "1. Time consuming\n",
    "\n",
    "## Questions\n",
    "1. After the mitigation, can we ensure we are indeed satisfying the constraints\n",
    "(What does constraint play a role in the mitigation)\n",
    "2. Is there any other mitigation approach?\n"
   ]
  }
 ]
}