{
 "cells": [
  {
   "cell_type": "markdown",
   "metadata": {
    "slideshow": {
     "slide_type": "slide"
    }
   },
   "source": [
    "Copyright (c) 2020-2021 Microsoft Corporation. All rights reserved. \n",
    "\n",
    "Licensed under the MIT License.\n",
    "\n",
    "# Tune LightGBM with FLAML Library\n",
    "\n",
    "\n",
    "## 1. Introduction\n",
    "\n",
    "FLAML is a Python library (https://github.com/microsoft/FLAML) designed to automatically produce accurate machine learning models \n",
    "with low computational cost. It is fast and cheap. The simple and lightweight design makes it easy \n",
    "to use and extend, such as adding new learners. FLAML can \n",
    "- serve as an economical AutoML engine,\n",
    "- be used as a fast hyperparameter tuning tool, or \n",
    "- be embedded in self-tuning software that requires low latency & resource in repetitive\n",
    "   tuning tasks.\n",
    "\n",
    "In this notebook, we demonstrate how to use FLAML library to tune hyperparameters of LightGBM with a regression example.\n",
    "\n",
    "FLAML requires `Python>=3.6`. To run this notebook example, please install flaml with the `notebook` option:\n",
    "```bash\n",
    "pip install flaml[notebook]\n",
    "```"
   ]
  },
  {
   "cell_type": "code",
   "execution_count": null,
   "metadata": {},
   "outputs": [],
   "source": [
    "!pip install flaml[notebook];"
   ]
  },
  {
   "cell_type": "markdown",
   "metadata": {
    "slideshow": {
     "slide_type": "slide"
    }
   },
   "source": [
    "## 2. Regression Example\n",
    "### Load data and preprocess\n",
    "\n",
    "Download [houses dataset](https://www.openml.org/d/537) from OpenML. The task is to predict median price of the house in the region based on demographic composition and a state of housing market in the region."
   ]
  },
  {
   "cell_type": "code",
   "execution_count": 1,
   "metadata": {
    "slideshow": {
     "slide_type": "subslide"
    },
    "tags": []
   },
   "outputs": [
    {
     "output_type": "stream",
     "name": "stdout",
     "text": [
      "load dataset from ./openml_ds537.pkl\nDataset name: houses\nX_train.shape: (15480, 8), y_train.shape: (15480,);\nX_test.shape: (5160, 8), y_test.shape: (5160,)\n"
     ]
    }
   ],
   "source": [
    "from flaml.data import load_openml_dataset\n",
    "X_train, X_test, y_train, y_test = load_openml_dataset(dataset_id=537, data_dir='./')"
   ]
  },
  {
   "cell_type": "markdown",
   "metadata": {
    "slideshow": {
     "slide_type": "slide"
    }
   },
   "source": [
    "### Run FLAML\n",
    "In the FLAML automl run configuration, users can specify the task type, time budget, error metric, learner list, whether to subsample, resampling strategy type, and so on. All these arguments have default values which will be used if users do not provide them. "
   ]
  },
  {
   "cell_type": "code",
   "execution_count": 15,
   "metadata": {
    "slideshow": {
     "slide_type": "slide"
    },
    "tags": []
   },
   "outputs": [],
   "source": [
    "''' import AutoML class from flaml package '''\n",
    "from flaml import AutoML\n",
    "automl = AutoML()"
   ]
  },
  {
   "cell_type": "code",
   "execution_count": 16,
   "metadata": {
    "slideshow": {
     "slide_type": "slide"
    }
   },
   "outputs": [],
   "source": [
    "settings = {\n",
    "    \"time_budget\": 120,  # total running time in seconds\n",
    "    \"metric\": 'r2',  # primary metrics for regression can be chosen from: ['mae','mse','r2']\n",
    "    \"estimator_list\": ['lgbm'],  # list of ML learners; we tune lightgbm in this example\n",
    "    \"task\": 'regression',  # task type    \n",
    "    \"log_file_name\": 'houses_experiment.log',  # flaml log file\n",
    "}"
   ]
  },
  {
   "cell_type": "code",
   "execution_count": 17,
   "metadata": {
    "slideshow": {
     "slide_type": "slide"
    },
    "tags": []
   },
   "outputs": [
    {
     "output_type": "stream",
     "name": "stderr",
     "text": [
      "[flaml.automl: 07-05 21:26:30] {908} INFO - Evaluation method: cv\n",
      "[flaml.automl: 07-05 21:26:30] {617} INFO - Using RepeatedKFold\n",
      "[flaml.automl: 07-05 21:26:30] {929} INFO - Minimizing error metric: 1-r2\n",
      "[flaml.automl: 07-05 21:26:30] {948} INFO - List of ML learners in AutoML Run: ['lgbm']\n",
      "[flaml.automl: 07-05 21:26:30] {1006} INFO - iteration 0, current learner lgbm\n",
      "[flaml.automl: 07-05 21:26:30] {1152} INFO -  at 0.3s,\tbest lgbm's error=0.7385,\tbest lgbm's error=0.7385\n",
      "[flaml.automl: 07-05 21:26:30] {1006} INFO - iteration 1, current learner lgbm\n",
      "[flaml.automl: 07-05 21:26:30] {1152} INFO -  at 0.5s,\tbest lgbm's error=0.7385,\tbest lgbm's error=0.7385\n",
      "[flaml.automl: 07-05 21:26:30] {1006} INFO - iteration 2, current learner lgbm\n",
      "[flaml.automl: 07-05 21:26:30] {1152} INFO -  at 0.7s,\tbest lgbm's error=0.5520,\tbest lgbm's error=0.5520\n",
      "[flaml.automl: 07-05 21:26:30] {1006} INFO - iteration 3, current learner lgbm\n",
      "[flaml.automl: 07-05 21:26:31] {1152} INFO -  at 1.1s,\tbest lgbm's error=0.3886,\tbest lgbm's error=0.3886\n",
      "[flaml.automl: 07-05 21:26:31] {1006} INFO - iteration 4, current learner lgbm\n",
      "[flaml.automl: 07-05 21:26:31] {1152} INFO -  at 1.3s,\tbest lgbm's error=0.3886,\tbest lgbm's error=0.3886\n",
      "[flaml.automl: 07-05 21:26:31] {1006} INFO - iteration 5, current learner lgbm\n",
      "[flaml.automl: 07-05 21:26:31] {1152} INFO -  at 1.5s,\tbest lgbm's error=0.3886,\tbest lgbm's error=0.3886\n",
      "[flaml.automl: 07-05 21:26:31] {1006} INFO - iteration 6, current learner lgbm\n",
      "[flaml.automl: 07-05 21:26:32] {1152} INFO -  at 1.9s,\tbest lgbm's error=0.3023,\tbest lgbm's error=0.3023\n",
      "[flaml.automl: 07-05 21:26:32] {1006} INFO - iteration 7, current learner lgbm\n",
      "[flaml.automl: 07-05 21:26:32] {1152} INFO -  at 2.4s,\tbest lgbm's error=0.2611,\tbest lgbm's error=0.2611\n",
      "[flaml.automl: 07-05 21:26:32] {1006} INFO - iteration 8, current learner lgbm\n",
      "[flaml.automl: 07-05 21:26:32] {1152} INFO -  at 2.6s,\tbest lgbm's error=0.2611,\tbest lgbm's error=0.2611\n",
      "[flaml.automl: 07-05 21:26:32] {1006} INFO - iteration 9, current learner lgbm\n",
      "[flaml.automl: 07-05 21:26:33] {1152} INFO -  at 3.2s,\tbest lgbm's error=0.2363,\tbest lgbm's error=0.2363\n",
      "[flaml.automl: 07-05 21:26:33] {1006} INFO - iteration 10, current learner lgbm\n",
      "[flaml.automl: 07-05 21:26:33] {1152} INFO -  at 3.4s,\tbest lgbm's error=0.2363,\tbest lgbm's error=0.2363\n",
      "[flaml.automl: 07-05 21:26:33] {1006} INFO - iteration 11, current learner lgbm\n",
      "[flaml.automl: 07-05 21:26:33] {1152} INFO -  at 3.6s,\tbest lgbm's error=0.2363,\tbest lgbm's error=0.2363\n",
      "[flaml.automl: 07-05 21:26:33] {1006} INFO - iteration 12, current learner lgbm\n",
      "[flaml.automl: 07-05 21:26:34] {1152} INFO -  at 4.3s,\tbest lgbm's error=0.1953,\tbest lgbm's error=0.1953\n",
      "[flaml.automl: 07-05 21:26:34] {1006} INFO - iteration 13, current learner lgbm\n",
      "[flaml.automl: 07-05 21:26:34] {1152} INFO -  at 4.7s,\tbest lgbm's error=0.1953,\tbest lgbm's error=0.1953\n",
      "[flaml.automl: 07-05 21:26:34] {1006} INFO - iteration 14, current learner lgbm\n",
      "[flaml.automl: 07-05 21:26:35] {1152} INFO -  at 5.3s,\tbest lgbm's error=0.1953,\tbest lgbm's error=0.1953\n",
      "[flaml.automl: 07-05 21:26:35] {1006} INFO - iteration 15, current learner lgbm\n",
      "[flaml.automl: 07-05 21:26:36] {1152} INFO -  at 5.8s,\tbest lgbm's error=0.1953,\tbest lgbm's error=0.1953\n",
      "[flaml.automl: 07-05 21:26:36] {1006} INFO - iteration 16, current learner lgbm\n",
      "[flaml.automl: 07-05 21:26:36] {1152} INFO -  at 6.3s,\tbest lgbm's error=0.1953,\tbest lgbm's error=0.1953\n",
      "[flaml.automl: 07-05 21:26:36] {1006} INFO - iteration 17, current learner lgbm\n",
      "[flaml.automl: 07-05 21:26:36] {1152} INFO -  at 6.8s,\tbest lgbm's error=0.1953,\tbest lgbm's error=0.1953\n",
      "[flaml.automl: 07-05 21:26:36] {1006} INFO - iteration 18, current learner lgbm\n",
      "[flaml.automl: 07-05 21:26:37] {1152} INFO -  at 7.7s,\tbest lgbm's error=0.1795,\tbest lgbm's error=0.1795\n",
      "[flaml.automl: 07-05 21:26:37] {1006} INFO - iteration 19, current learner lgbm\n",
      "[flaml.automl: 07-05 21:26:38] {1152} INFO -  at 8.0s,\tbest lgbm's error=0.1795,\tbest lgbm's error=0.1795\n",
      "[flaml.automl: 07-05 21:26:38] {1006} INFO - iteration 20, current learner lgbm\n",
      "[flaml.automl: 07-05 21:26:41] {1152} INFO -  at 11.4s,\tbest lgbm's error=0.1795,\tbest lgbm's error=0.1795\n",
      "[flaml.automl: 07-05 21:26:41] {1006} INFO - iteration 21, current learner lgbm\n",
      "[flaml.automl: 07-05 21:26:42] {1152} INFO -  at 11.9s,\tbest lgbm's error=0.1795,\tbest lgbm's error=0.1795\n",
      "[flaml.automl: 07-05 21:26:42] {1006} INFO - iteration 22, current learner lgbm\n",
      "[flaml.automl: 07-05 21:26:43] {1152} INFO -  at 13.5s,\tbest lgbm's error=0.1768,\tbest lgbm's error=0.1768\n",
      "[flaml.automl: 07-05 21:26:43] {1006} INFO - iteration 23, current learner lgbm\n",
      "[flaml.automl: 07-05 21:26:44] {1152} INFO -  at 14.3s,\tbest lgbm's error=0.1768,\tbest lgbm's error=0.1768\n",
      "[flaml.automl: 07-05 21:26:44] {1006} INFO - iteration 24, current learner lgbm\n",
      "[flaml.automl: 07-05 21:26:45] {1152} INFO -  at 15.7s,\tbest lgbm's error=0.1768,\tbest lgbm's error=0.1768\n",
      "[flaml.automl: 07-05 21:26:45] {1006} INFO - iteration 25, current learner lgbm\n",
      "[flaml.automl: 07-05 21:26:46] {1152} INFO -  at 16.1s,\tbest lgbm's error=0.1768,\tbest lgbm's error=0.1768\n",
      "[flaml.automl: 07-05 21:26:46] {1006} INFO - iteration 26, current learner lgbm\n",
      "[flaml.automl: 07-05 21:26:52] {1152} INFO -  at 22.3s,\tbest lgbm's error=0.1652,\tbest lgbm's error=0.1652\n",
      "[flaml.automl: 07-05 21:26:52] {1006} INFO - iteration 27, current learner lgbm\n",
      "[flaml.automl: 07-05 21:26:56] {1152} INFO -  at 25.9s,\tbest lgbm's error=0.1652,\tbest lgbm's error=0.1652\n",
      "[flaml.automl: 07-05 21:26:56] {1006} INFO - iteration 28, current learner lgbm\n",
      "[flaml.automl: 07-05 21:27:07] {1152} INFO -  at 36.9s,\tbest lgbm's error=0.1642,\tbest lgbm's error=0.1642\n",
      "[flaml.automl: 07-05 21:27:07] {1006} INFO - iteration 29, current learner lgbm\n",
      "[flaml.automl: 07-05 21:27:08] {1152} INFO -  at 38.4s,\tbest lgbm's error=0.1642,\tbest lgbm's error=0.1642\n",
      "[flaml.automl: 07-05 21:27:08] {1006} INFO - iteration 30, current learner lgbm\n",
      "[flaml.automl: 07-05 21:27:28] {1152} INFO -  at 58.5s,\tbest lgbm's error=0.1618,\tbest lgbm's error=0.1618\n",
      "[flaml.automl: 07-05 21:27:28] {1006} INFO - iteration 31, current learner lgbm\n",
      "[flaml.automl: 07-05 21:27:34] {1152} INFO -  at 63.9s,\tbest lgbm's error=0.1618,\tbest lgbm's error=0.1618\n",
      "[flaml.automl: 07-05 21:27:34] {1006} INFO - iteration 32, current learner lgbm\n",
      "[flaml.automl: 07-05 21:28:29] {1152} INFO -  at 119.6s,\tbest lgbm's error=0.1618,\tbest lgbm's error=0.1618\n",
      "[flaml.automl: 07-05 21:28:29] {1198} INFO - selected model: LGBMRegressor(colsample_bytree=0.8021997484670117,\n",
      "              learning_rate=0.06226709556351162, max_bin=512,\n",
      "              min_child_samples=128, n_estimators=1610, num_leaves=276,\n",
      "              objective='regression', reg_alpha=0.00994814076362267,\n",
      "              reg_lambda=8.181816322817145, subsample=0.8716100265520644)\n",
      "[flaml.automl: 07-05 21:28:29] {963} INFO - fit succeeded\n"
     ]
    }
   ],
   "source": [
    "'''The main flaml automl API'''\n",
    "automl.fit(X_train=X_train, y_train=y_train, **settings)"
   ]
  },
  {
   "cell_type": "markdown",
   "metadata": {
    "slideshow": {
     "slide_type": "slide"
    }
   },
   "source": [
    "### Best model and metric"
   ]
  },
  {
   "cell_type": "code",
   "execution_count": 18,
   "metadata": {
    "slideshow": {
     "slide_type": "slide"
    },
    "tags": []
   },
   "outputs": [
    {
     "output_type": "stream",
     "name": "stdout",
     "text": [
      "Best hyperparmeter config: {'n_estimators': 1610.0, 'num_leaves': 276.0, 'min_child_samples': 128.0, 'learning_rate': 0.06226709556351162, 'subsample': 0.8716100265520644, 'log_max_bin': 10.0, 'colsample_bytree': 0.8021997484670117, 'reg_alpha': 0.00994814076362267, 'reg_lambda': 8.181816322817145}\nBest r2 on validation data: 0.8382\nTraining duration of best run: 20.08 s\n"
     ]
    }
   ],
   "source": [
    "''' retrieve best config'''\n",
    "print('Best hyperparmeter config:', automl.best_config)\n",
    "print('Best r2 on validation data: {0:.4g}'.format(1-automl.best_loss))\n",
    "print('Training duration of best run: {0:.4g} s'.format(automl.best_config_train_time))"
   ]
  },
  {
   "cell_type": "code",
   "execution_count": 19,
   "metadata": {
    "slideshow": {
     "slide_type": "slide"
    }
   },
   "outputs": [
    {
     "output_type": "execute_result",
     "data": {
      "text/plain": [
       "LGBMRegressor(colsample_bytree=0.8021997484670117,\n",
       "              learning_rate=0.06226709556351162, max_bin=512,\n",
       "              min_child_samples=128, n_estimators=1610, num_leaves=276,\n",
       "              objective='regression', reg_alpha=0.00994814076362267,\n",
       "              reg_lambda=8.181816322817145, subsample=0.8716100265520644)"
      ]
     },
     "metadata": {},
     "execution_count": 19
    }
   ],
   "source": [
    "automl.model.estimator"
   ]
  },
  {
   "cell_type": "code",
   "execution_count": 20,
   "metadata": {
    "slideshow": {
     "slide_type": "slide"
    }
   },
   "outputs": [],
   "source": [
    "''' pickle and save the automl object '''\n",
    "import pickle\n",
    "with open('automl.pkl', 'wb') as f:\n",
    "    pickle.dump(automl, f, pickle.HIGHEST_PROTOCOL)"
   ]
  },
  {
   "cell_type": "code",
   "execution_count": 21,
   "metadata": {
    "slideshow": {
     "slide_type": "slide"
    },
    "tags": []
   },
   "outputs": [
    {
     "output_type": "stream",
     "name": "stdout",
     "text": [
      "Predicted labels [140092.10338469 247604.21623647 148569.02778139 ... 187834.83849049\n 246407.63595882 270407.18295016]\nTrue labels [136900. 241300. 200700. ... 160900. 227300. 265600.]\n"
     ]
    }
   ],
   "source": [
    "''' compute predictions of testing dataset ''' \n",
    "y_pred = automl.predict(X_test)\n",
    "print('Predicted labels', y_pred)\n",
    "print('True labels', y_test)"
   ]
  },
  {
   "cell_type": "code",
   "execution_count": 22,
   "metadata": {
    "slideshow": {
     "slide_type": "slide"
    },
    "tags": []
   },
   "outputs": [
    {
     "output_type": "stream",
     "name": "stdout",
     "text": [
      "r2 = 0.8430561223755106\nmse = 2074563673.0138116\nmae = 30985.794424442047\n"
     ]
    }
   ],
   "source": [
    "''' compute different metric values on testing dataset'''\n",
    "from flaml.ml import sklearn_metric_loss_score\n",
    "print('r2', '=', 1 - sklearn_metric_loss_score('r2', y_pred, y_test))\n",
    "print('mse', '=', sklearn_metric_loss_score('mse', y_pred, y_test))\n",
    "print('mae', '=', sklearn_metric_loss_score('mae', y_pred, y_test))"
   ]
  },
  {
   "cell_type": "code",
   "execution_count": 23,
   "metadata": {
    "slideshow": {
     "slide_type": "subslide"
    },
    "tags": []
   },
   "outputs": [
    {
     "output_type": "stream",
     "name": "stdout",
     "text": [
      "houses_experiment.log\n{'Current Learner': 'lgbm', 'Current Sample': 15480, 'Current Hyper-parameters': {'n_estimators': 4, 'num_leaves': 4, 'min_child_samples': 20, 'learning_rate': 0.1, 'subsample': 1.0, 'log_max_bin': 8, 'colsample_bytree': 1.0, 'reg_alpha': 0.0009765625, 'reg_lambda': 1.0}, 'Best Learner': 'lgbm', 'Best Hyper-parameters': {'n_estimators': 4, 'num_leaves': 4, 'min_child_samples': 20, 'learning_rate': 0.1, 'subsample': 1.0, 'log_max_bin': 8, 'colsample_bytree': 1.0, 'reg_alpha': 0.0009765625, 'reg_lambda': 1.0}}\n{'Current Learner': 'lgbm', 'Current Sample': 15480, 'Current Hyper-parameters': {'n_estimators': 4.0, 'num_leaves': 4.0, 'min_child_samples': 12.0, 'learning_rate': 0.25912534572860507, 'subsample': 0.9266743941610592, 'log_max_bin': 10.0, 'colsample_bytree': 1.0, 'reg_alpha': 0.0013933617380144255, 'reg_lambda': 0.18096917948292954}, 'Best Learner': 'lgbm', 'Best Hyper-parameters': {'n_estimators': 4.0, 'num_leaves': 4.0, 'min_child_samples': 12.0, 'learning_rate': 0.25912534572860507, 'subsample': 0.9266743941610592, 'log_max_bin': 10.0, 'colsample_bytree': 1.0, 'reg_alpha': 0.0013933617380144255, 'reg_lambda': 0.18096917948292954}}\n{'Current Learner': 'lgbm', 'Current Sample': 15480, 'Current Hyper-parameters': {'n_estimators': 4.0, 'num_leaves': 4.0, 'min_child_samples': 24.0, 'learning_rate': 1.0, 'subsample': 0.8513627344387318, 'log_max_bin': 10.0, 'colsample_bytree': 0.946138073111236, 'reg_alpha': 0.0018311776973217071, 'reg_lambda': 0.27901659190538414}, 'Best Learner': 'lgbm', 'Best Hyper-parameters': {'n_estimators': 4.0, 'num_leaves': 4.0, 'min_child_samples': 24.0, 'learning_rate': 1.0, 'subsample': 0.8513627344387318, 'log_max_bin': 10.0, 'colsample_bytree': 0.946138073111236, 'reg_alpha': 0.0018311776973217071, 'reg_lambda': 0.27901659190538414}}\n{'Current Learner': 'lgbm', 'Current Sample': 15480, 'Current Hyper-parameters': {'n_estimators': 11.0, 'num_leaves': 4.0, 'min_child_samples': 36.0, 'learning_rate': 1.0, 'subsample': 0.8894434216129232, 'log_max_bin': 10.0, 'colsample_bytree': 1.0, 'reg_alpha': 0.0013605736901132325, 'reg_lambda': 0.1222158118565165}, 'Best Learner': 'lgbm', 'Best Hyper-parameters': {'n_estimators': 11.0, 'num_leaves': 4.0, 'min_child_samples': 36.0, 'learning_rate': 1.0, 'subsample': 0.8894434216129232, 'log_max_bin': 10.0, 'colsample_bytree': 1.0, 'reg_alpha': 0.0013605736901132325, 'reg_lambda': 0.1222158118565165}}\n{'Current Learner': 'lgbm', 'Current Sample': 15480, 'Current Hyper-parameters': {'n_estimators': 20.0, 'num_leaves': 4.0, 'min_child_samples': 46.0, 'learning_rate': 1.0, 'subsample': 0.9814787163243813, 'log_max_bin': 9.0, 'colsample_bytree': 0.8499027725496043, 'reg_alpha': 0.0022085340760961856, 'reg_lambda': 0.5460627024738893}, 'Best Learner': 'lgbm', 'Best Hyper-parameters': {'n_estimators': 20.0, 'num_leaves': 4.0, 'min_child_samples': 46.0, 'learning_rate': 1.0, 'subsample': 0.9814787163243813, 'log_max_bin': 9.0, 'colsample_bytree': 0.8499027725496043, 'reg_alpha': 0.0022085340760961856, 'reg_lambda': 0.5460627024738893}}\n{'Current Learner': 'lgbm', 'Current Sample': 15480, 'Current Hyper-parameters': {'n_estimators': 20.0, 'num_leaves': 11.0, 'min_child_samples': 52.0, 'learning_rate': 1.0, 'subsample': 1.0, 'log_max_bin': 9.0, 'colsample_bytree': 0.7967145599266738, 'reg_alpha': 0.05680749758595097, 'reg_lambda': 2.756357095973371}, 'Best Learner': 'lgbm', 'Best Hyper-parameters': {'n_estimators': 20.0, 'num_leaves': 11.0, 'min_child_samples': 52.0, 'learning_rate': 1.0, 'subsample': 1.0, 'log_max_bin': 9.0, 'colsample_bytree': 0.7967145599266738, 'reg_alpha': 0.05680749758595097, 'reg_lambda': 2.756357095973371}}\n{'Current Learner': 'lgbm', 'Current Sample': 15480, 'Current Hyper-parameters': {'n_estimators': 37.0, 'num_leaves': 15.0, 'min_child_samples': 93.0, 'learning_rate': 0.6413547778096401, 'subsample': 1.0, 'log_max_bin': 9.0, 'colsample_bytree': 0.6980216487058154, 'reg_alpha': 0.020158745350617662, 'reg_lambda': 0.954042157679914}, 'Best Learner': 'lgbm', 'Best Hyper-parameters': {'n_estimators': 37.0, 'num_leaves': 15.0, 'min_child_samples': 93.0, 'learning_rate': 0.6413547778096401, 'subsample': 1.0, 'log_max_bin': 9.0, 'colsample_bytree': 0.6980216487058154, 'reg_alpha': 0.020158745350617662, 'reg_lambda': 0.954042157679914}}\n{'Current Learner': 'lgbm', 'Current Sample': 15480, 'Current Hyper-parameters': {'n_estimators': 75.0, 'num_leaves': 32.0, 'min_child_samples': 83.0, 'learning_rate': 0.19997653978110663, 'subsample': 0.8895588746662894, 'log_max_bin': 7.0, 'colsample_bytree': 0.663557757490723, 'reg_alpha': 0.03147131714846291, 'reg_lambda': 0.38644069375879475}, 'Best Learner': 'lgbm', 'Best Hyper-parameters': {'n_estimators': 75.0, 'num_leaves': 32.0, 'min_child_samples': 83.0, 'learning_rate': 0.19997653978110663, 'subsample': 0.8895588746662894, 'log_max_bin': 7.0, 'colsample_bytree': 0.663557757490723, 'reg_alpha': 0.03147131714846291, 'reg_lambda': 0.38644069375879475}}\n{'Current Learner': 'lgbm', 'Current Sample': 15480, 'Current Hyper-parameters': {'n_estimators': 81.0, 'num_leaves': 66.0, 'min_child_samples': 93.0, 'learning_rate': 0.07560024606664352, 'subsample': 0.8756054034199897, 'log_max_bin': 7.0, 'colsample_bytree': 0.7142272555842307, 'reg_alpha': 0.00219854653612346, 'reg_lambda': 2.9360090402842274}, 'Best Learner': 'lgbm', 'Best Hyper-parameters': {'n_estimators': 81.0, 'num_leaves': 66.0, 'min_child_samples': 93.0, 'learning_rate': 0.07560024606664352, 'subsample': 0.8756054034199897, 'log_max_bin': 7.0, 'colsample_bytree': 0.7142272555842307, 'reg_alpha': 0.00219854653612346, 'reg_lambda': 2.9360090402842274}}\n{'Current Learner': 'lgbm', 'Current Sample': 15480, 'Current Hyper-parameters': {'n_estimators': 283.0, 'num_leaves': 171.0, 'min_child_samples': 128.0, 'learning_rate': 0.056885026855831654, 'subsample': 0.9152991332236934, 'log_max_bin': 8.0, 'colsample_bytree': 0.7103230835995594, 'reg_alpha': 0.012993197803320033, 'reg_lambda': 7.0529810054461715}, 'Best Learner': 'lgbm', 'Best Hyper-parameters': {'n_estimators': 283.0, 'num_leaves': 171.0, 'min_child_samples': 128.0, 'learning_rate': 0.056885026855831654, 'subsample': 0.9152991332236934, 'log_max_bin': 8.0, 'colsample_bytree': 0.7103230835995594, 'reg_alpha': 0.012993197803320033, 'reg_lambda': 7.0529810054461715}}\n{'Current Learner': 'lgbm', 'Current Sample': 15480, 'Current Hyper-parameters': {'n_estimators': 363.0, 'num_leaves': 269.0, 'min_child_samples': 128.0, 'learning_rate': 0.13082160708847235, 'subsample': 0.820105567300051, 'log_max_bin': 10.0, 'colsample_bytree': 0.6819303877749074, 'reg_alpha': 0.03805198795768637, 'reg_lambda': 18.14103139151093}, 'Best Learner': 'lgbm', 'Best Hyper-parameters': {'n_estimators': 363.0, 'num_leaves': 269.0, 'min_child_samples': 128.0, 'learning_rate': 0.13082160708847235, 'subsample': 0.820105567300051, 'log_max_bin': 10.0, 'colsample_bytree': 0.6819303877749074, 'reg_alpha': 0.03805198795768637, 'reg_lambda': 18.14103139151093}}\n{'Current Learner': 'lgbm', 'Current Sample': 15480, 'Current Hyper-parameters': {'n_estimators': 1610.0, 'num_leaves': 276.0, 'min_child_samples': 128.0, 'learning_rate': 0.06226709556351162, 'subsample': 0.8716100265520644, 'log_max_bin': 10.0, 'colsample_bytree': 0.8021997484670117, 'reg_alpha': 0.00994814076362267, 'reg_lambda': 8.181816322817145}, 'Best Learner': 'lgbm', 'Best Hyper-parameters': {'n_estimators': 1610.0, 'num_leaves': 276.0, 'min_child_samples': 128.0, 'learning_rate': 0.06226709556351162, 'subsample': 0.8716100265520644, 'log_max_bin': 10.0, 'colsample_bytree': 0.8021997484670117, 'reg_alpha': 0.00994814076362267, 'reg_lambda': 8.181816322817145}}\n"
     ]
    }
   ],
   "source": [
    "from flaml.data import get_output_from_log\n",
    "print(settings['log_file_name'])\n",
    "time_history, best_valid_loss_history, valid_loss_history, config_history, train_loss_history = \\\n",
    "    get_output_from_log(filename=settings['log_file_name'], time_budget=60)\n",
    "\n",
    "for config in config_history:\n",
    "    print(config)"
   ]
  },
  {
   "cell_type": "code",
   "execution_count": 24,
   "metadata": {
    "slideshow": {
     "slide_type": "slide"
    }
   },
   "outputs": [
    {
     "output_type": "display_data",
     "data": {
      "text/plain": "<Figure size 432x288 with 1 Axes>",
      "image/svg+xml": "<?xml version=\"1.0\" encoding=\"utf-8\" standalone=\"no\"?>\n<!DOCTYPE svg PUBLIC \"-//W3C//DTD SVG 1.1//EN\"\n  \"http://www.w3.org/Graphics/SVG/1.1/DTD/svg11.dtd\">\n<!-- Created with matplotlib (https://matplotlib.org/) -->\n<svg height=\"277.314375pt\" version=\"1.1\" viewBox=\"0 0 385.78125 277.314375\" width=\"385.78125pt\" xmlns=\"http://www.w3.org/2000/svg\" xmlns:xlink=\"http://www.w3.org/1999/xlink\">\n <defs>\n  <style type=\"text/css\">\n*{stroke-linecap:butt;stroke-linejoin:round;}\n  </style>\n </defs>\n <g id=\"figure_1\">\n  <g id=\"patch_1\">\n   <path d=\"M 0 277.314375 \nL 385.78125 277.314375 \nL 385.78125 0 \nL 0 0 \nz\n\" style=\"fill:none;\"/>\n  </g>\n  <g id=\"axes_1\">\n   <g id=\"patch_2\">\n    <path d=\"M 43.78125 239.758125 \nL 378.58125 239.758125 \nL 378.58125 22.318125 \nL 43.78125 22.318125 \nz\n\" style=\"fill:#ffffff;\"/>\n   </g>\n   <g id=\"PathCollection_1\">\n    <defs>\n     <path d=\"M 0 3 \nC 0.795609 3 1.55874 2.683901 2.12132 2.12132 \nC 2.683901 1.55874 3 0.795609 3 0 \nC 3 -0.795609 2.683901 -1.55874 2.12132 -2.12132 \nC 1.55874 -2.683901 0.795609 -3 0 -3 \nC -0.795609 -3 -1.55874 -2.683901 -2.12132 -2.12132 \nC -2.683901 -1.55874 -3 -0.795609 -3 0 \nC -3 0.795609 -2.683901 1.55874 -2.12132 2.12132 \nC -1.55874 2.683901 -0.795609 3 0 3 \nz\n\" id=\"mf955335d0b\" style=\"stroke:#1f77b4;\"/>\n    </defs>\n    <g clip-path=\"url(#p4c5461a03a)\">\n     <use style=\"fill:#1f77b4;stroke:#1f77b4;\" x=\"58.999432\" xlink:href=\"#mf955335d0b\" y=\"229.874489\"/>\n     <use style=\"fill:#1f77b4;stroke:#1f77b4;\" x=\"61.295574\" xlink:href=\"#mf955335d0b\" y=\"165.940101\"/>\n     <use style=\"fill:#1f77b4;stroke:#1f77b4;\" x=\"62.923061\" xlink:href=\"#mf955335d0b\" y=\"109.948282\"/>\n     <use style=\"fill:#1f77b4;stroke:#1f77b4;\" x=\"67.564487\" xlink:href=\"#mf955335d0b\" y=\"80.349442\"/>\n     <use style=\"fill:#1f77b4;stroke:#1f77b4;\" x=\"70.165472\" xlink:href=\"#mf955335d0b\" y=\"66.254884\"/>\n     <use style=\"fill:#1f77b4;stroke:#1f77b4;\" x=\"73.917011\" xlink:href=\"#mf955335d0b\" y=\"57.732577\"/>\n     <use style=\"fill:#1f77b4;stroke:#1f77b4;\" x=\"79.686146\" xlink:href=\"#mf955335d0b\" y=\"43.688289\"/>\n     <use style=\"fill:#1f77b4;stroke:#1f77b4;\" x=\"97.848096\" xlink:href=\"#mf955335d0b\" y=\"38.27595\"/>\n     <use style=\"fill:#1f77b4;stroke:#1f77b4;\" x=\"128.039986\" xlink:href=\"#mf955335d0b\" y=\"37.337287\"/>\n     <use style=\"fill:#1f77b4;stroke:#1f77b4;\" x=\"174.016927\" xlink:href=\"#mf955335d0b\" y=\"33.372216\"/>\n     <use style=\"fill:#1f77b4;stroke:#1f77b4;\" x=\"250.081902\" xlink:href=\"#mf955335d0b\" y=\"33.038917\"/>\n     <use style=\"fill:#1f77b4;stroke:#1f77b4;\" x=\"363.363068\" xlink:href=\"#mf955335d0b\" y=\"32.201761\"/>\n    </g>\n   </g>\n   <g id=\"matplotlib.axis_1\">\n    <g id=\"xtick_1\">\n     <g id=\"line2d_1\">\n      <defs>\n       <path d=\"M 0 0 \nL 0 3.5 \n\" id=\"m6128028397\" style=\"stroke:#000000;stroke-width:0.8;\"/>\n      </defs>\n      <g>\n       <use style=\"stroke:#000000;stroke-width:0.8;\" x=\"57.397406\" xlink:href=\"#m6128028397\" y=\"239.758125\"/>\n      </g>\n     </g>\n     <g id=\"text_1\">\n      <!-- 0 -->\n      <defs>\n       <path d=\"M 31.78125 66.40625 \nQ 24.171875 66.40625 20.328125 58.90625 \nQ 16.5 51.421875 16.5 36.375 \nQ 16.5 21.390625 20.328125 13.890625 \nQ 24.171875 6.390625 31.78125 6.390625 \nQ 39.453125 6.390625 43.28125 13.890625 \nQ 47.125 21.390625 47.125 36.375 \nQ 47.125 51.421875 43.28125 58.90625 \nQ 39.453125 66.40625 31.78125 66.40625 \nz\nM 31.78125 74.21875 \nQ 44.046875 74.21875 50.515625 64.515625 \nQ 56.984375 54.828125 56.984375 36.375 \nQ 56.984375 17.96875 50.515625 8.265625 \nQ 44.046875 -1.421875 31.78125 -1.421875 \nQ 19.53125 -1.421875 13.0625 8.265625 \nQ 6.59375 17.96875 6.59375 36.375 \nQ 6.59375 54.828125 13.0625 64.515625 \nQ 19.53125 74.21875 31.78125 74.21875 \nz\n\" id=\"DejaVuSans-48\"/>\n      </defs>\n      <g transform=\"translate(54.216156 254.356562)scale(0.1 -0.1)\">\n       <use xlink:href=\"#DejaVuSans-48\"/>\n      </g>\n     </g>\n    </g>\n    <g id=\"xtick_2\">\n     <g id=\"line2d_2\">\n      <g>\n       <use style=\"stroke:#000000;stroke-width:0.8;\" x=\"109.677896\" xlink:href=\"#m6128028397\" y=\"239.758125\"/>\n      </g>\n     </g>\n     <g id=\"text_2\">\n      <!-- 10 -->\n      <defs>\n       <path d=\"M 12.40625 8.296875 \nL 28.515625 8.296875 \nL 28.515625 63.921875 \nL 10.984375 60.40625 \nL 10.984375 69.390625 \nL 28.421875 72.90625 \nL 38.28125 72.90625 \nL 38.28125 8.296875 \nL 54.390625 8.296875 \nL 54.390625 0 \nL 12.40625 0 \nz\n\" id=\"DejaVuSans-49\"/>\n      </defs>\n      <g transform=\"translate(103.315396 254.356562)scale(0.1 -0.1)\">\n       <use xlink:href=\"#DejaVuSans-49\"/>\n       <use x=\"63.623047\" xlink:href=\"#DejaVuSans-48\"/>\n      </g>\n     </g>\n    </g>\n    <g id=\"xtick_3\">\n     <g id=\"line2d_3\">\n      <g>\n       <use style=\"stroke:#000000;stroke-width:0.8;\" x=\"161.958385\" xlink:href=\"#m6128028397\" y=\"239.758125\"/>\n      </g>\n     </g>\n     <g id=\"text_3\">\n      <!-- 20 -->\n      <defs>\n       <path d=\"M 19.1875 8.296875 \nL 53.609375 8.296875 \nL 53.609375 0 \nL 7.328125 0 \nL 7.328125 8.296875 \nQ 12.9375 14.109375 22.625 23.890625 \nQ 32.328125 33.6875 34.8125 36.53125 \nQ 39.546875 41.84375 41.421875 45.53125 \nQ 43.3125 49.21875 43.3125 52.78125 \nQ 43.3125 58.59375 39.234375 62.25 \nQ 35.15625 65.921875 28.609375 65.921875 \nQ 23.96875 65.921875 18.8125 64.3125 \nQ 13.671875 62.703125 7.8125 59.421875 \nL 7.8125 69.390625 \nQ 13.765625 71.78125 18.9375 73 \nQ 24.125 74.21875 28.421875 74.21875 \nQ 39.75 74.21875 46.484375 68.546875 \nQ 53.21875 62.890625 53.21875 53.421875 \nQ 53.21875 48.921875 51.53125 44.890625 \nQ 49.859375 40.875 45.40625 35.40625 \nQ 44.1875 33.984375 37.640625 27.21875 \nQ 31.109375 20.453125 19.1875 8.296875 \nz\n\" id=\"DejaVuSans-50\"/>\n      </defs>\n      <g transform=\"translate(155.595885 254.356562)scale(0.1 -0.1)\">\n       <use xlink:href=\"#DejaVuSans-50\"/>\n       <use x=\"63.623047\" xlink:href=\"#DejaVuSans-48\"/>\n      </g>\n     </g>\n    </g>\n    <g id=\"xtick_4\">\n     <g id=\"line2d_4\">\n      <g>\n       <use style=\"stroke:#000000;stroke-width:0.8;\" x=\"214.238875\" xlink:href=\"#m6128028397\" y=\"239.758125\"/>\n      </g>\n     </g>\n     <g id=\"text_4\">\n      <!-- 30 -->\n      <defs>\n       <path d=\"M 40.578125 39.3125 \nQ 47.65625 37.796875 51.625 33 \nQ 55.609375 28.21875 55.609375 21.1875 \nQ 55.609375 10.40625 48.1875 4.484375 \nQ 40.765625 -1.421875 27.09375 -1.421875 \nQ 22.515625 -1.421875 17.65625 -0.515625 \nQ 12.796875 0.390625 7.625 2.203125 \nL 7.625 11.71875 \nQ 11.71875 9.328125 16.59375 8.109375 \nQ 21.484375 6.890625 26.8125 6.890625 \nQ 36.078125 6.890625 40.9375 10.546875 \nQ 45.796875 14.203125 45.796875 21.1875 \nQ 45.796875 27.640625 41.28125 31.265625 \nQ 36.765625 34.90625 28.71875 34.90625 \nL 20.21875 34.90625 \nL 20.21875 43.015625 \nL 29.109375 43.015625 \nQ 36.375 43.015625 40.234375 45.921875 \nQ 44.09375 48.828125 44.09375 54.296875 \nQ 44.09375 59.90625 40.109375 62.90625 \nQ 36.140625 65.921875 28.71875 65.921875 \nQ 24.65625 65.921875 20.015625 65.03125 \nQ 15.375 64.15625 9.8125 62.3125 \nL 9.8125 71.09375 \nQ 15.4375 72.65625 20.34375 73.4375 \nQ 25.25 74.21875 29.59375 74.21875 \nQ 40.828125 74.21875 47.359375 69.109375 \nQ 53.90625 64.015625 53.90625 55.328125 \nQ 53.90625 49.265625 50.4375 45.09375 \nQ 46.96875 40.921875 40.578125 39.3125 \nz\n\" id=\"DejaVuSans-51\"/>\n      </defs>\n      <g transform=\"translate(207.876375 254.356562)scale(0.1 -0.1)\">\n       <use xlink:href=\"#DejaVuSans-51\"/>\n       <use x=\"63.623047\" xlink:href=\"#DejaVuSans-48\"/>\n      </g>\n     </g>\n    </g>\n    <g id=\"xtick_5\">\n     <g id=\"line2d_5\">\n      <g>\n       <use style=\"stroke:#000000;stroke-width:0.8;\" x=\"266.519364\" xlink:href=\"#m6128028397\" y=\"239.758125\"/>\n      </g>\n     </g>\n     <g id=\"text_5\">\n      <!-- 40 -->\n      <defs>\n       <path d=\"M 37.796875 64.3125 \nL 12.890625 25.390625 \nL 37.796875 25.390625 \nz\nM 35.203125 72.90625 \nL 47.609375 72.90625 \nL 47.609375 25.390625 \nL 58.015625 25.390625 \nL 58.015625 17.1875 \nL 47.609375 17.1875 \nL 47.609375 0 \nL 37.796875 0 \nL 37.796875 17.1875 \nL 4.890625 17.1875 \nL 4.890625 26.703125 \nz\n\" id=\"DejaVuSans-52\"/>\n      </defs>\n      <g transform=\"translate(260.156864 254.356562)scale(0.1 -0.1)\">\n       <use xlink:href=\"#DejaVuSans-52\"/>\n       <use x=\"63.623047\" xlink:href=\"#DejaVuSans-48\"/>\n      </g>\n     </g>\n    </g>\n    <g id=\"xtick_6\">\n     <g id=\"line2d_6\">\n      <g>\n       <use style=\"stroke:#000000;stroke-width:0.8;\" x=\"318.799854\" xlink:href=\"#m6128028397\" y=\"239.758125\"/>\n      </g>\n     </g>\n     <g id=\"text_6\">\n      <!-- 50 -->\n      <defs>\n       <path d=\"M 10.796875 72.90625 \nL 49.515625 72.90625 \nL 49.515625 64.59375 \nL 19.828125 64.59375 \nL 19.828125 46.734375 \nQ 21.96875 47.46875 24.109375 47.828125 \nQ 26.265625 48.1875 28.421875 48.1875 \nQ 40.625 48.1875 47.75 41.5 \nQ 54.890625 34.8125 54.890625 23.390625 \nQ 54.890625 11.625 47.5625 5.09375 \nQ 40.234375 -1.421875 26.90625 -1.421875 \nQ 22.3125 -1.421875 17.546875 -0.640625 \nQ 12.796875 0.140625 7.71875 1.703125 \nL 7.71875 11.625 \nQ 12.109375 9.234375 16.796875 8.0625 \nQ 21.484375 6.890625 26.703125 6.890625 \nQ 35.15625 6.890625 40.078125 11.328125 \nQ 45.015625 15.765625 45.015625 23.390625 \nQ 45.015625 31 40.078125 35.4375 \nQ 35.15625 39.890625 26.703125 39.890625 \nQ 22.75 39.890625 18.8125 39.015625 \nQ 14.890625 38.140625 10.796875 36.28125 \nz\n\" id=\"DejaVuSans-53\"/>\n      </defs>\n      <g transform=\"translate(312.437354 254.356562)scale(0.1 -0.1)\">\n       <use xlink:href=\"#DejaVuSans-53\"/>\n       <use x=\"63.623047\" xlink:href=\"#DejaVuSans-48\"/>\n      </g>\n     </g>\n    </g>\n    <g id=\"xtick_7\">\n     <g id=\"line2d_7\">\n      <g>\n       <use style=\"stroke:#000000;stroke-width:0.8;\" x=\"371.080343\" xlink:href=\"#m6128028397\" y=\"239.758125\"/>\n      </g>\n     </g>\n     <g id=\"text_7\">\n      <!-- 60 -->\n      <defs>\n       <path d=\"M 33.015625 40.375 \nQ 26.375 40.375 22.484375 35.828125 \nQ 18.609375 31.296875 18.609375 23.390625 \nQ 18.609375 15.53125 22.484375 10.953125 \nQ 26.375 6.390625 33.015625 6.390625 \nQ 39.65625 6.390625 43.53125 10.953125 \nQ 47.40625 15.53125 47.40625 23.390625 \nQ 47.40625 31.296875 43.53125 35.828125 \nQ 39.65625 40.375 33.015625 40.375 \nz\nM 52.59375 71.296875 \nL 52.59375 62.3125 \nQ 48.875 64.0625 45.09375 64.984375 \nQ 41.3125 65.921875 37.59375 65.921875 \nQ 27.828125 65.921875 22.671875 59.328125 \nQ 17.53125 52.734375 16.796875 39.40625 \nQ 19.671875 43.65625 24.015625 45.921875 \nQ 28.375 48.1875 33.59375 48.1875 \nQ 44.578125 48.1875 50.953125 41.515625 \nQ 57.328125 34.859375 57.328125 23.390625 \nQ 57.328125 12.15625 50.6875 5.359375 \nQ 44.046875 -1.421875 33.015625 -1.421875 \nQ 20.359375 -1.421875 13.671875 8.265625 \nQ 6.984375 17.96875 6.984375 36.375 \nQ 6.984375 53.65625 15.1875 63.9375 \nQ 23.390625 74.21875 37.203125 74.21875 \nQ 40.921875 74.21875 44.703125 73.484375 \nQ 48.484375 72.75 52.59375 71.296875 \nz\n\" id=\"DejaVuSans-54\"/>\n      </defs>\n      <g transform=\"translate(364.717843 254.356562)scale(0.1 -0.1)\">\n       <use xlink:href=\"#DejaVuSans-54\"/>\n       <use x=\"63.623047\" xlink:href=\"#DejaVuSans-48\"/>\n      </g>\n     </g>\n    </g>\n    <g id=\"text_8\">\n     <!-- Wall Clock Time (s) -->\n     <defs>\n      <path d=\"M 3.328125 72.90625 \nL 13.28125 72.90625 \nL 28.609375 11.28125 \nL 43.890625 72.90625 \nL 54.984375 72.90625 \nL 70.3125 11.28125 \nL 85.59375 72.90625 \nL 95.609375 72.90625 \nL 77.296875 0 \nL 64.890625 0 \nL 49.515625 63.28125 \nL 33.984375 0 \nL 21.578125 0 \nz\n\" id=\"DejaVuSans-87\"/>\n      <path d=\"M 34.28125 27.484375 \nQ 23.390625 27.484375 19.1875 25 \nQ 14.984375 22.515625 14.984375 16.5 \nQ 14.984375 11.71875 18.140625 8.90625 \nQ 21.296875 6.109375 26.703125 6.109375 \nQ 34.1875 6.109375 38.703125 11.40625 \nQ 43.21875 16.703125 43.21875 25.484375 \nL 43.21875 27.484375 \nz\nM 52.203125 31.203125 \nL 52.203125 0 \nL 43.21875 0 \nL 43.21875 8.296875 \nQ 40.140625 3.328125 35.546875 0.953125 \nQ 30.953125 -1.421875 24.3125 -1.421875 \nQ 15.921875 -1.421875 10.953125 3.296875 \nQ 6 8.015625 6 15.921875 \nQ 6 25.140625 12.171875 29.828125 \nQ 18.359375 34.515625 30.609375 34.515625 \nL 43.21875 34.515625 \nL 43.21875 35.40625 \nQ 43.21875 41.609375 39.140625 45 \nQ 35.0625 48.390625 27.6875 48.390625 \nQ 23 48.390625 18.546875 47.265625 \nQ 14.109375 46.140625 10.015625 43.890625 \nL 10.015625 52.203125 \nQ 14.9375 54.109375 19.578125 55.046875 \nQ 24.21875 56 28.609375 56 \nQ 40.484375 56 46.34375 49.84375 \nQ 52.203125 43.703125 52.203125 31.203125 \nz\n\" id=\"DejaVuSans-97\"/>\n      <path d=\"M 9.421875 75.984375 \nL 18.40625 75.984375 \nL 18.40625 0 \nL 9.421875 0 \nz\n\" id=\"DejaVuSans-108\"/>\n      <path id=\"DejaVuSans-32\"/>\n      <path d=\"M 64.40625 67.28125 \nL 64.40625 56.890625 \nQ 59.421875 61.53125 53.78125 63.8125 \nQ 48.140625 66.109375 41.796875 66.109375 \nQ 29.296875 66.109375 22.65625 58.46875 \nQ 16.015625 50.828125 16.015625 36.375 \nQ 16.015625 21.96875 22.65625 14.328125 \nQ 29.296875 6.6875 41.796875 6.6875 \nQ 48.140625 6.6875 53.78125 8.984375 \nQ 59.421875 11.28125 64.40625 15.921875 \nL 64.40625 5.609375 \nQ 59.234375 2.09375 53.4375 0.328125 \nQ 47.65625 -1.421875 41.21875 -1.421875 \nQ 24.65625 -1.421875 15.125 8.703125 \nQ 5.609375 18.84375 5.609375 36.375 \nQ 5.609375 53.953125 15.125 64.078125 \nQ 24.65625 74.21875 41.21875 74.21875 \nQ 47.75 74.21875 53.53125 72.484375 \nQ 59.328125 70.75 64.40625 67.28125 \nz\n\" id=\"DejaVuSans-67\"/>\n      <path d=\"M 30.609375 48.390625 \nQ 23.390625 48.390625 19.1875 42.75 \nQ 14.984375 37.109375 14.984375 27.296875 \nQ 14.984375 17.484375 19.15625 11.84375 \nQ 23.34375 6.203125 30.609375 6.203125 \nQ 37.796875 6.203125 41.984375 11.859375 \nQ 46.1875 17.53125 46.1875 27.296875 \nQ 46.1875 37.015625 41.984375 42.703125 \nQ 37.796875 48.390625 30.609375 48.390625 \nz\nM 30.609375 56 \nQ 42.328125 56 49.015625 48.375 \nQ 55.71875 40.765625 55.71875 27.296875 \nQ 55.71875 13.875 49.015625 6.21875 \nQ 42.328125 -1.421875 30.609375 -1.421875 \nQ 18.84375 -1.421875 12.171875 6.21875 \nQ 5.515625 13.875 5.515625 27.296875 \nQ 5.515625 40.765625 12.171875 48.375 \nQ 18.84375 56 30.609375 56 \nz\n\" id=\"DejaVuSans-111\"/>\n      <path d=\"M 48.78125 52.59375 \nL 48.78125 44.1875 \nQ 44.96875 46.296875 41.140625 47.34375 \nQ 37.3125 48.390625 33.40625 48.390625 \nQ 24.65625 48.390625 19.8125 42.84375 \nQ 14.984375 37.3125 14.984375 27.296875 \nQ 14.984375 17.28125 19.8125 11.734375 \nQ 24.65625 6.203125 33.40625 6.203125 \nQ 37.3125 6.203125 41.140625 7.25 \nQ 44.96875 8.296875 48.78125 10.40625 \nL 48.78125 2.09375 \nQ 45.015625 0.34375 40.984375 -0.53125 \nQ 36.96875 -1.421875 32.421875 -1.421875 \nQ 20.0625 -1.421875 12.78125 6.34375 \nQ 5.515625 14.109375 5.515625 27.296875 \nQ 5.515625 40.671875 12.859375 48.328125 \nQ 20.21875 56 33.015625 56 \nQ 37.15625 56 41.109375 55.140625 \nQ 45.0625 54.296875 48.78125 52.59375 \nz\n\" id=\"DejaVuSans-99\"/>\n      <path d=\"M 9.078125 75.984375 \nL 18.109375 75.984375 \nL 18.109375 31.109375 \nL 44.921875 54.6875 \nL 56.390625 54.6875 \nL 27.390625 29.109375 \nL 57.625 0 \nL 45.90625 0 \nL 18.109375 26.703125 \nL 18.109375 0 \nL 9.078125 0 \nz\n\" id=\"DejaVuSans-107\"/>\n      <path d=\"M -0.296875 72.90625 \nL 61.375 72.90625 \nL 61.375 64.59375 \nL 35.5 64.59375 \nL 35.5 0 \nL 25.59375 0 \nL 25.59375 64.59375 \nL -0.296875 64.59375 \nz\n\" id=\"DejaVuSans-84\"/>\n      <path d=\"M 9.421875 54.6875 \nL 18.40625 54.6875 \nL 18.40625 0 \nL 9.421875 0 \nz\nM 9.421875 75.984375 \nL 18.40625 75.984375 \nL 18.40625 64.59375 \nL 9.421875 64.59375 \nz\n\" id=\"DejaVuSans-105\"/>\n      <path d=\"M 52 44.1875 \nQ 55.375 50.25 60.0625 53.125 \nQ 64.75 56 71.09375 56 \nQ 79.640625 56 84.28125 50.015625 \nQ 88.921875 44.046875 88.921875 33.015625 \nL 88.921875 0 \nL 79.890625 0 \nL 79.890625 32.71875 \nQ 79.890625 40.578125 77.09375 44.375 \nQ 74.3125 48.1875 68.609375 48.1875 \nQ 61.625 48.1875 57.5625 43.546875 \nQ 53.515625 38.921875 53.515625 30.90625 \nL 53.515625 0 \nL 44.484375 0 \nL 44.484375 32.71875 \nQ 44.484375 40.625 41.703125 44.40625 \nQ 38.921875 48.1875 33.109375 48.1875 \nQ 26.21875 48.1875 22.15625 43.53125 \nQ 18.109375 38.875 18.109375 30.90625 \nL 18.109375 0 \nL 9.078125 0 \nL 9.078125 54.6875 \nL 18.109375 54.6875 \nL 18.109375 46.1875 \nQ 21.1875 51.21875 25.484375 53.609375 \nQ 29.78125 56 35.6875 56 \nQ 41.65625 56 45.828125 52.96875 \nQ 50 49.953125 52 44.1875 \nz\n\" id=\"DejaVuSans-109\"/>\n      <path d=\"M 56.203125 29.59375 \nL 56.203125 25.203125 \nL 14.890625 25.203125 \nQ 15.484375 15.921875 20.484375 11.0625 \nQ 25.484375 6.203125 34.421875 6.203125 \nQ 39.59375 6.203125 44.453125 7.46875 \nQ 49.3125 8.734375 54.109375 11.28125 \nL 54.109375 2.78125 \nQ 49.265625 0.734375 44.1875 -0.34375 \nQ 39.109375 -1.421875 33.890625 -1.421875 \nQ 20.796875 -1.421875 13.15625 6.1875 \nQ 5.515625 13.8125 5.515625 26.8125 \nQ 5.515625 40.234375 12.765625 48.109375 \nQ 20.015625 56 32.328125 56 \nQ 43.359375 56 49.78125 48.890625 \nQ 56.203125 41.796875 56.203125 29.59375 \nz\nM 47.21875 32.234375 \nQ 47.125 39.59375 43.09375 43.984375 \nQ 39.0625 48.390625 32.421875 48.390625 \nQ 24.90625 48.390625 20.390625 44.140625 \nQ 15.875 39.890625 15.1875 32.171875 \nz\n\" id=\"DejaVuSans-101\"/>\n      <path d=\"M 31 75.875 \nQ 24.46875 64.65625 21.28125 53.65625 \nQ 18.109375 42.671875 18.109375 31.390625 \nQ 18.109375 20.125 21.3125 9.0625 \nQ 24.515625 -2 31 -13.1875 \nL 23.1875 -13.1875 \nQ 15.875 -1.703125 12.234375 9.375 \nQ 8.59375 20.453125 8.59375 31.390625 \nQ 8.59375 42.28125 12.203125 53.3125 \nQ 15.828125 64.359375 23.1875 75.875 \nz\n\" id=\"DejaVuSans-40\"/>\n      <path d=\"M 44.28125 53.078125 \nL 44.28125 44.578125 \nQ 40.484375 46.53125 36.375 47.5 \nQ 32.28125 48.484375 27.875 48.484375 \nQ 21.1875 48.484375 17.84375 46.4375 \nQ 14.5 44.390625 14.5 40.28125 \nQ 14.5 37.15625 16.890625 35.375 \nQ 19.28125 33.59375 26.515625 31.984375 \nL 29.59375 31.296875 \nQ 39.15625 29.25 43.1875 25.515625 \nQ 47.21875 21.78125 47.21875 15.09375 \nQ 47.21875 7.46875 41.1875 3.015625 \nQ 35.15625 -1.421875 24.609375 -1.421875 \nQ 20.21875 -1.421875 15.453125 -0.5625 \nQ 10.6875 0.296875 5.421875 2 \nL 5.421875 11.28125 \nQ 10.40625 8.6875 15.234375 7.390625 \nQ 20.0625 6.109375 24.8125 6.109375 \nQ 31.15625 6.109375 34.5625 8.28125 \nQ 37.984375 10.453125 37.984375 14.40625 \nQ 37.984375 18.0625 35.515625 20.015625 \nQ 33.0625 21.96875 24.703125 23.78125 \nL 21.578125 24.515625 \nQ 13.234375 26.265625 9.515625 29.90625 \nQ 5.8125 33.546875 5.8125 39.890625 \nQ 5.8125 47.609375 11.28125 51.796875 \nQ 16.75 56 26.8125 56 \nQ 31.78125 56 36.171875 55.265625 \nQ 40.578125 54.546875 44.28125 53.078125 \nz\n\" id=\"DejaVuSans-115\"/>\n      <path d=\"M 8.015625 75.875 \nL 15.828125 75.875 \nQ 23.140625 64.359375 26.78125 53.3125 \nQ 30.421875 42.28125 30.421875 31.390625 \nQ 30.421875 20.453125 26.78125 9.375 \nQ 23.140625 -1.703125 15.828125 -13.1875 \nL 8.015625 -13.1875 \nQ 14.5 -2 17.703125 9.0625 \nQ 20.90625 20.125 20.90625 31.390625 \nQ 20.90625 42.671875 17.703125 53.65625 \nQ 14.5 64.65625 8.015625 75.875 \nz\n\" id=\"DejaVuSans-41\"/>\n     </defs>\n     <g transform=\"translate(163.622656 268.034687)scale(0.1 -0.1)\">\n      <use xlink:href=\"#DejaVuSans-87\"/>\n      <use x=\"92.501953\" xlink:href=\"#DejaVuSans-97\"/>\n      <use x=\"153.78125\" xlink:href=\"#DejaVuSans-108\"/>\n      <use x=\"181.564453\" xlink:href=\"#DejaVuSans-108\"/>\n      <use x=\"209.347656\" xlink:href=\"#DejaVuSans-32\"/>\n      <use x=\"241.134766\" xlink:href=\"#DejaVuSans-67\"/>\n      <use x=\"310.958984\" xlink:href=\"#DejaVuSans-108\"/>\n      <use x=\"338.742188\" xlink:href=\"#DejaVuSans-111\"/>\n      <use x=\"399.923828\" xlink:href=\"#DejaVuSans-99\"/>\n      <use x=\"454.904297\" xlink:href=\"#DejaVuSans-107\"/>\n      <use x=\"512.814453\" xlink:href=\"#DejaVuSans-32\"/>\n      <use x=\"544.601562\" xlink:href=\"#DejaVuSans-84\"/>\n      <use x=\"602.560547\" xlink:href=\"#DejaVuSans-105\"/>\n      <use x=\"630.34375\" xlink:href=\"#DejaVuSans-109\"/>\n      <use x=\"727.755859\" xlink:href=\"#DejaVuSans-101\"/>\n      <use x=\"789.279297\" xlink:href=\"#DejaVuSans-32\"/>\n      <use x=\"821.066406\" xlink:href=\"#DejaVuSans-40\"/>\n      <use x=\"860.080078\" xlink:href=\"#DejaVuSans-115\"/>\n      <use x=\"912.179688\" xlink:href=\"#DejaVuSans-41\"/>\n     </g>\n    </g>\n   </g>\n   <g id=\"matplotlib.axis_2\">\n    <g id=\"ytick_1\">\n     <g id=\"line2d_8\">\n      <defs>\n       <path d=\"M 0 0 \nL -3.5 0 \n\" id=\"m10f8b88a95\" style=\"stroke:#000000;stroke-width:0.8;\"/>\n      </defs>\n      <g>\n       <use style=\"stroke:#000000;stroke-width:0.8;\" x=\"43.78125\" xlink:href=\"#m10f8b88a95\" y=\"216.687157\"/>\n      </g>\n     </g>\n     <g id=\"text_9\">\n      <!-- 0.3 -->\n      <defs>\n       <path d=\"M 10.6875 12.40625 \nL 21 12.40625 \nL 21 0 \nL 10.6875 0 \nz\n\" id=\"DejaVuSans-46\"/>\n      </defs>\n      <g transform=\"translate(20.878125 220.486376)scale(0.1 -0.1)\">\n       <use xlink:href=\"#DejaVuSans-48\"/>\n       <use x=\"63.623047\" xlink:href=\"#DejaVuSans-46\"/>\n       <use x=\"95.410156\" xlink:href=\"#DejaVuSans-51\"/>\n      </g>\n     </g>\n    </g>\n    <g id=\"ytick_2\">\n     <g id=\"line2d_9\">\n      <g>\n       <use style=\"stroke:#000000;stroke-width:0.8;\" x=\"43.78125\" xlink:href=\"#m10f8b88a95\" y=\"182.40916\"/>\n      </g>\n     </g>\n     <g id=\"text_10\">\n      <!-- 0.4 -->\n      <g transform=\"translate(20.878125 186.208378)scale(0.1 -0.1)\">\n       <use xlink:href=\"#DejaVuSans-48\"/>\n       <use x=\"63.623047\" xlink:href=\"#DejaVuSans-46\"/>\n       <use x=\"95.410156\" xlink:href=\"#DejaVuSans-52\"/>\n      </g>\n     </g>\n    </g>\n    <g id=\"ytick_3\">\n     <g id=\"line2d_10\">\n      <g>\n       <use style=\"stroke:#000000;stroke-width:0.8;\" x=\"43.78125\" xlink:href=\"#m10f8b88a95\" y=\"148.131163\"/>\n      </g>\n     </g>\n     <g id=\"text_11\">\n      <!-- 0.5 -->\n      <g transform=\"translate(20.878125 151.930381)scale(0.1 -0.1)\">\n       <use xlink:href=\"#DejaVuSans-48\"/>\n       <use x=\"63.623047\" xlink:href=\"#DejaVuSans-46\"/>\n       <use x=\"95.410156\" xlink:href=\"#DejaVuSans-53\"/>\n      </g>\n     </g>\n    </g>\n    <g id=\"ytick_4\">\n     <g id=\"line2d_11\">\n      <g>\n       <use style=\"stroke:#000000;stroke-width:0.8;\" x=\"43.78125\" xlink:href=\"#m10f8b88a95\" y=\"113.853165\"/>\n      </g>\n     </g>\n     <g id=\"text_12\">\n      <!-- 0.6 -->\n      <g transform=\"translate(20.878125 117.652384)scale(0.1 -0.1)\">\n       <use xlink:href=\"#DejaVuSans-48\"/>\n       <use x=\"63.623047\" xlink:href=\"#DejaVuSans-46\"/>\n       <use x=\"95.410156\" xlink:href=\"#DejaVuSans-54\"/>\n      </g>\n     </g>\n    </g>\n    <g id=\"ytick_5\">\n     <g id=\"line2d_12\">\n      <g>\n       <use style=\"stroke:#000000;stroke-width:0.8;\" x=\"43.78125\" xlink:href=\"#m10f8b88a95\" y=\"79.575168\"/>\n      </g>\n     </g>\n     <g id=\"text_13\">\n      <!-- 0.7 -->\n      <defs>\n       <path d=\"M 8.203125 72.90625 \nL 55.078125 72.90625 \nL 55.078125 68.703125 \nL 28.609375 0 \nL 18.3125 0 \nL 43.21875 64.59375 \nL 8.203125 64.59375 \nz\n\" id=\"DejaVuSans-55\"/>\n      </defs>\n      <g transform=\"translate(20.878125 83.374387)scale(0.1 -0.1)\">\n       <use xlink:href=\"#DejaVuSans-48\"/>\n       <use x=\"63.623047\" xlink:href=\"#DejaVuSans-46\"/>\n       <use x=\"95.410156\" xlink:href=\"#DejaVuSans-55\"/>\n      </g>\n     </g>\n    </g>\n    <g id=\"ytick_6\">\n     <g id=\"line2d_13\">\n      <g>\n       <use style=\"stroke:#000000;stroke-width:0.8;\" x=\"43.78125\" xlink:href=\"#m10f8b88a95\" y=\"45.297171\"/>\n      </g>\n     </g>\n     <g id=\"text_14\">\n      <!-- 0.8 -->\n      <defs>\n       <path d=\"M 31.78125 34.625 \nQ 24.75 34.625 20.71875 30.859375 \nQ 16.703125 27.09375 16.703125 20.515625 \nQ 16.703125 13.921875 20.71875 10.15625 \nQ 24.75 6.390625 31.78125 6.390625 \nQ 38.8125 6.390625 42.859375 10.171875 \nQ 46.921875 13.96875 46.921875 20.515625 \nQ 46.921875 27.09375 42.890625 30.859375 \nQ 38.875 34.625 31.78125 34.625 \nz\nM 21.921875 38.8125 \nQ 15.578125 40.375 12.03125 44.71875 \nQ 8.5 49.078125 8.5 55.328125 \nQ 8.5 64.0625 14.71875 69.140625 \nQ 20.953125 74.21875 31.78125 74.21875 \nQ 42.671875 74.21875 48.875 69.140625 \nQ 55.078125 64.0625 55.078125 55.328125 \nQ 55.078125 49.078125 51.53125 44.71875 \nQ 48 40.375 41.703125 38.8125 \nQ 48.828125 37.15625 52.796875 32.3125 \nQ 56.78125 27.484375 56.78125 20.515625 \nQ 56.78125 9.90625 50.3125 4.234375 \nQ 43.84375 -1.421875 31.78125 -1.421875 \nQ 19.734375 -1.421875 13.25 4.234375 \nQ 6.78125 9.90625 6.78125 20.515625 \nQ 6.78125 27.484375 10.78125 32.3125 \nQ 14.796875 37.15625 21.921875 38.8125 \nz\nM 18.3125 54.390625 \nQ 18.3125 48.734375 21.84375 45.5625 \nQ 25.390625 42.390625 31.78125 42.390625 \nQ 38.140625 42.390625 41.71875 45.5625 \nQ 45.3125 48.734375 45.3125 54.390625 \nQ 45.3125 60.0625 41.71875 63.234375 \nQ 38.140625 66.40625 31.78125 66.40625 \nQ 25.390625 66.40625 21.84375 63.234375 \nQ 18.3125 60.0625 18.3125 54.390625 \nz\n\" id=\"DejaVuSans-56\"/>\n      </defs>\n      <g transform=\"translate(20.878125 49.09639)scale(0.1 -0.1)\">\n       <use xlink:href=\"#DejaVuSans-48\"/>\n       <use x=\"63.623047\" xlink:href=\"#DejaVuSans-46\"/>\n       <use x=\"95.410156\" xlink:href=\"#DejaVuSans-56\"/>\n      </g>\n     </g>\n    </g>\n    <g id=\"text_15\">\n     <!-- Validation r2 -->\n     <defs>\n      <path d=\"M 28.609375 0 \nL 0.78125 72.90625 \nL 11.078125 72.90625 \nL 34.1875 11.53125 \nL 57.328125 72.90625 \nL 67.578125 72.90625 \nL 39.796875 0 \nz\n\" id=\"DejaVuSans-86\"/>\n      <path d=\"M 45.40625 46.390625 \nL 45.40625 75.984375 \nL 54.390625 75.984375 \nL 54.390625 0 \nL 45.40625 0 \nL 45.40625 8.203125 \nQ 42.578125 3.328125 38.25 0.953125 \nQ 33.9375 -1.421875 27.875 -1.421875 \nQ 17.96875 -1.421875 11.734375 6.484375 \nQ 5.515625 14.40625 5.515625 27.296875 \nQ 5.515625 40.1875 11.734375 48.09375 \nQ 17.96875 56 27.875 56 \nQ 33.9375 56 38.25 53.625 \nQ 42.578125 51.265625 45.40625 46.390625 \nz\nM 14.796875 27.296875 \nQ 14.796875 17.390625 18.875 11.75 \nQ 22.953125 6.109375 30.078125 6.109375 \nQ 37.203125 6.109375 41.296875 11.75 \nQ 45.40625 17.390625 45.40625 27.296875 \nQ 45.40625 37.203125 41.296875 42.84375 \nQ 37.203125 48.484375 30.078125 48.484375 \nQ 22.953125 48.484375 18.875 42.84375 \nQ 14.796875 37.203125 14.796875 27.296875 \nz\n\" id=\"DejaVuSans-100\"/>\n      <path d=\"M 18.3125 70.21875 \nL 18.3125 54.6875 \nL 36.8125 54.6875 \nL 36.8125 47.703125 \nL 18.3125 47.703125 \nL 18.3125 18.015625 \nQ 18.3125 11.328125 20.140625 9.421875 \nQ 21.96875 7.515625 27.59375 7.515625 \nL 36.8125 7.515625 \nL 36.8125 0 \nL 27.59375 0 \nQ 17.1875 0 13.234375 3.875 \nQ 9.28125 7.765625 9.28125 18.015625 \nL 9.28125 47.703125 \nL 2.6875 47.703125 \nL 2.6875 54.6875 \nL 9.28125 54.6875 \nL 9.28125 70.21875 \nz\n\" id=\"DejaVuSans-116\"/>\n      <path d=\"M 54.890625 33.015625 \nL 54.890625 0 \nL 45.90625 0 \nL 45.90625 32.71875 \nQ 45.90625 40.484375 42.875 44.328125 \nQ 39.84375 48.1875 33.796875 48.1875 \nQ 26.515625 48.1875 22.3125 43.546875 \nQ 18.109375 38.921875 18.109375 30.90625 \nL 18.109375 0 \nL 9.078125 0 \nL 9.078125 54.6875 \nL 18.109375 54.6875 \nL 18.109375 46.1875 \nQ 21.34375 51.125 25.703125 53.5625 \nQ 30.078125 56 35.796875 56 \nQ 45.21875 56 50.046875 50.171875 \nQ 54.890625 44.34375 54.890625 33.015625 \nz\n\" id=\"DejaVuSans-110\"/>\n      <path d=\"M 41.109375 46.296875 \nQ 39.59375 47.171875 37.8125 47.578125 \nQ 36.03125 48 33.890625 48 \nQ 26.265625 48 22.1875 43.046875 \nQ 18.109375 38.09375 18.109375 28.8125 \nL 18.109375 0 \nL 9.078125 0 \nL 9.078125 54.6875 \nL 18.109375 54.6875 \nL 18.109375 46.1875 \nQ 20.953125 51.171875 25.484375 53.578125 \nQ 30.03125 56 36.53125 56 \nQ 37.453125 56 38.578125 55.875 \nQ 39.703125 55.765625 41.0625 55.515625 \nz\n\" id=\"DejaVuSans-114\"/>\n     </defs>\n     <g transform=\"translate(14.798438 162.554531)rotate(-90)scale(0.1 -0.1)\">\n      <use xlink:href=\"#DejaVuSans-86\"/>\n      <use x=\"60.658203\" xlink:href=\"#DejaVuSans-97\"/>\n      <use x=\"121.9375\" xlink:href=\"#DejaVuSans-108\"/>\n      <use x=\"149.720703\" xlink:href=\"#DejaVuSans-105\"/>\n      <use x=\"177.503906\" xlink:href=\"#DejaVuSans-100\"/>\n      <use x=\"240.980469\" xlink:href=\"#DejaVuSans-97\"/>\n      <use x=\"302.259766\" xlink:href=\"#DejaVuSans-116\"/>\n      <use x=\"341.46875\" xlink:href=\"#DejaVuSans-105\"/>\n      <use x=\"369.251953\" xlink:href=\"#DejaVuSans-111\"/>\n      <use x=\"430.433594\" xlink:href=\"#DejaVuSans-110\"/>\n      <use x=\"493.8125\" xlink:href=\"#DejaVuSans-32\"/>\n      <use x=\"525.599609\" xlink:href=\"#DejaVuSans-114\"/>\n      <use x=\"566.712891\" xlink:href=\"#DejaVuSans-50\"/>\n     </g>\n    </g>\n   </g>\n   <g id=\"line2d_14\">\n    <path clip-path=\"url(#p4c5461a03a)\" d=\"M 58.999432 229.874489 \nL 61.295574 229.874489 \nL 61.295574 165.940101 \nL 62.923061 165.940101 \nL 62.923061 109.948282 \nL 67.564487 109.948282 \nL 67.564487 80.349442 \nL 70.165472 80.349442 \nL 70.165472 66.254884 \nL 73.917011 66.254884 \nL 73.917011 57.732577 \nL 79.686146 57.732577 \nL 79.686146 43.688289 \nL 97.848096 43.688289 \nL 97.848096 38.27595 \nL 128.039986 38.27595 \nL 128.039986 37.337287 \nL 174.016927 37.337287 \nL 174.016927 33.372216 \nL 250.081902 33.372216 \nL 250.081902 33.038917 \nL 363.363068 33.038917 \nL 363.363068 32.201761 \n\" style=\"fill:none;stroke:#1f77b4;stroke-linecap:square;stroke-width:1.5;\"/>\n   </g>\n   <g id=\"patch_3\">\n    <path d=\"M 43.78125 239.758125 \nL 43.78125 22.318125 \n\" style=\"fill:none;stroke:#000000;stroke-linecap:square;stroke-linejoin:miter;stroke-width:0.8;\"/>\n   </g>\n   <g id=\"patch_4\">\n    <path d=\"M 378.58125 239.758125 \nL 378.58125 22.318125 \n\" style=\"fill:none;stroke:#000000;stroke-linecap:square;stroke-linejoin:miter;stroke-width:0.8;\"/>\n   </g>\n   <g id=\"patch_5\">\n    <path d=\"M 43.78125 239.758125 \nL 378.58125 239.758125 \n\" style=\"fill:none;stroke:#000000;stroke-linecap:square;stroke-linejoin:miter;stroke-width:0.8;\"/>\n   </g>\n   <g id=\"patch_6\">\n    <path d=\"M 43.78125 22.318125 \nL 378.58125 22.318125 \n\" style=\"fill:none;stroke:#000000;stroke-linecap:square;stroke-linejoin:miter;stroke-width:0.8;\"/>\n   </g>\n   <g id=\"text_16\">\n    <!-- Learning Curve -->\n    <defs>\n     <path d=\"M 9.8125 72.90625 \nL 19.671875 72.90625 \nL 19.671875 8.296875 \nL 55.171875 8.296875 \nL 55.171875 0 \nL 9.8125 0 \nz\n\" id=\"DejaVuSans-76\"/>\n     <path d=\"M 45.40625 27.984375 \nQ 45.40625 37.75 41.375 43.109375 \nQ 37.359375 48.484375 30.078125 48.484375 \nQ 22.859375 48.484375 18.828125 43.109375 \nQ 14.796875 37.75 14.796875 27.984375 \nQ 14.796875 18.265625 18.828125 12.890625 \nQ 22.859375 7.515625 30.078125 7.515625 \nQ 37.359375 7.515625 41.375 12.890625 \nQ 45.40625 18.265625 45.40625 27.984375 \nz\nM 54.390625 6.78125 \nQ 54.390625 -7.171875 48.1875 -13.984375 \nQ 42 -20.796875 29.203125 -20.796875 \nQ 24.46875 -20.796875 20.265625 -20.09375 \nQ 16.0625 -19.390625 12.109375 -17.921875 \nL 12.109375 -9.1875 \nQ 16.0625 -11.328125 19.921875 -12.34375 \nQ 23.78125 -13.375 27.78125 -13.375 \nQ 36.625 -13.375 41.015625 -8.765625 \nQ 45.40625 -4.15625 45.40625 5.171875 \nL 45.40625 9.625 \nQ 42.625 4.78125 38.28125 2.390625 \nQ 33.9375 0 27.875 0 \nQ 17.828125 0 11.671875 7.65625 \nQ 5.515625 15.328125 5.515625 27.984375 \nQ 5.515625 40.671875 11.671875 48.328125 \nQ 17.828125 56 27.875 56 \nQ 33.9375 56 38.28125 53.609375 \nQ 42.625 51.21875 45.40625 46.390625 \nL 45.40625 54.6875 \nL 54.390625 54.6875 \nz\n\" id=\"DejaVuSans-103\"/>\n     <path d=\"M 8.5 21.578125 \nL 8.5 54.6875 \nL 17.484375 54.6875 \nL 17.484375 21.921875 \nQ 17.484375 14.15625 20.5 10.265625 \nQ 23.53125 6.390625 29.59375 6.390625 \nQ 36.859375 6.390625 41.078125 11.03125 \nQ 45.3125 15.671875 45.3125 23.6875 \nL 45.3125 54.6875 \nL 54.296875 54.6875 \nL 54.296875 0 \nL 45.3125 0 \nL 45.3125 8.40625 \nQ 42.046875 3.421875 37.71875 1 \nQ 33.40625 -1.421875 27.6875 -1.421875 \nQ 18.265625 -1.421875 13.375 4.4375 \nQ 8.5 10.296875 8.5 21.578125 \nz\nM 31.109375 56 \nz\n\" id=\"DejaVuSans-117\"/>\n     <path d=\"M 2.984375 54.6875 \nL 12.5 54.6875 \nL 29.59375 8.796875 \nL 46.6875 54.6875 \nL 56.203125 54.6875 \nL 35.6875 0 \nL 23.484375 0 \nz\n\" id=\"DejaVuSans-118\"/>\n    </defs>\n    <g transform=\"translate(165.523125 16.318125)scale(0.12 -0.12)\">\n     <use xlink:href=\"#DejaVuSans-76\"/>\n     <use x=\"53.962891\" xlink:href=\"#DejaVuSans-101\"/>\n     <use x=\"115.486328\" xlink:href=\"#DejaVuSans-97\"/>\n     <use x=\"176.765625\" xlink:href=\"#DejaVuSans-114\"/>\n     <use x=\"216.128906\" xlink:href=\"#DejaVuSans-110\"/>\n     <use x=\"279.507812\" xlink:href=\"#DejaVuSans-105\"/>\n     <use x=\"307.291016\" xlink:href=\"#DejaVuSans-110\"/>\n     <use x=\"370.669922\" xlink:href=\"#DejaVuSans-103\"/>\n     <use x=\"434.146484\" xlink:href=\"#DejaVuSans-32\"/>\n     <use x=\"465.933594\" xlink:href=\"#DejaVuSans-67\"/>\n     <use x=\"535.757812\" xlink:href=\"#DejaVuSans-117\"/>\n     <use x=\"599.136719\" xlink:href=\"#DejaVuSans-114\"/>\n     <use x=\"640.25\" xlink:href=\"#DejaVuSans-118\"/>\n     <use x=\"699.429688\" xlink:href=\"#DejaVuSans-101\"/>\n    </g>\n   </g>\n  </g>\n </g>\n <defs>\n  <clipPath id=\"p4c5461a03a\">\n   <rect height=\"217.44\" width=\"334.8\" x=\"43.78125\" y=\"22.318125\"/>\n  </clipPath>\n </defs>\n</svg>\n",
      "image/png": "[encoded data removed]"
     },
     "metadata": {
      "needs_background": "light"
     }
    }
   ],
   "source": [
    "import matplotlib.pyplot as plt\n",
    "import numpy as np\n",
    "\n",
    "plt.title('Learning Curve')\n",
    "plt.xlabel('Wall Clock Time (s)')\n",
    "plt.ylabel('Validation r2')\n",
    "plt.scatter(time_history, 1 - np.array(valid_loss_history))\n",
    "plt.step(time_history, 1 - np.array(best_valid_loss_history), where='post')\n",
    "plt.show()"
   ]
  },
  {
   "source": [
    "## 3. Comparison with alternatives\n",
    "\n",
    "### FLAML's accuracy"
   ],
   "cell_type": "markdown",
   "metadata": {}
  },
  {
   "cell_type": "code",
   "execution_count": 25,
   "metadata": {
    "tags": []
   },
   "outputs": [
    {
     "output_type": "stream",
     "name": "stdout",
     "text": [
      "flaml r2 = 0.8430561223755106\n"
     ]
    }
   ],
   "source": [
    "print('flaml r2', '=', 1 - sklearn_metric_loss_score('r2', y_pred, y_test))"
   ]
  },
  {
   "source": [
    "### Default LightGBM"
   ],
   "cell_type": "markdown",
   "metadata": {}
  },
  {
   "cell_type": "code",
   "execution_count": 26,
   "metadata": {},
   "outputs": [],
   "source": [
    "from lightgbm import LGBMRegressor\n",
    "lgbm = LGBMRegressor()"
   ]
  },
  {
   "cell_type": "code",
   "execution_count": 27,
   "metadata": {},
   "outputs": [
    {
     "output_type": "execute_result",
     "data": {
      "text/plain": [
       "LGBMRegressor()"
      ]
     },
     "metadata": {},
     "execution_count": 27
    }
   ],
   "source": [
    "lgbm.fit(X_train, y_train)"
   ]
  },
  {
   "cell_type": "code",
   "execution_count": 28,
   "metadata": {
    "tags": []
   },
   "outputs": [
    {
     "output_type": "stream",
     "name": "stdout",
     "text": [
      "default lgbm r2 = 0.8296179648694404\n"
     ]
    }
   ],
   "source": [
    "y_pred = lgbm.predict(X_test)\n",
    "from flaml.ml import sklearn_metric_loss_score\n",
    "print('default lgbm r2', '=', 1 - sklearn_metric_loss_score('r2', y_pred, y_test))"
   ]
  },
  {
   "source": [
    "### Optuna LightGBM Tuner"
   ],
   "cell_type": "markdown",
   "metadata": {}
  },
  {
   "cell_type": "code",
   "execution_count": 29,
   "metadata": {},
   "outputs": [],
   "source": [
    "# !pip install optuna==2.5.0;"
   ]
  },
  {
   "cell_type": "code",
   "execution_count": 30,
   "metadata": {},
   "outputs": [],
   "source": [
    "from sklearn.model_selection import train_test_split\n",
    "train_x, val_x, train_y, val_y = train_test_split(X_train, y_train, test_size=0.1)\n",
    "import optuna.integration.lightgbm as lgb\n",
    "dtrain = lgb.Dataset(train_x, label=train_y)\n",
    "dval = lgb.Dataset(val_x, label=val_y)\n",
    "params = {\n",
    "    \"objective\": \"regression\",\n",
    "    \"metric\": \"regression\",\n",
    "    \"verbosity\": -1,\n",
    "}\n"
   ]
  },
  {
   "cell_type": "code",
   "execution_count": 31,
   "metadata": {
    "tags": [
     "outputPrepend"
    ]
   },
   "outputs": [
    {
     "output_type": "stream",
     "name": "stderr",
     "text": [
      " 1 with value: 2180366999.489744.\u001b[0m\n",
      "feature_fraction, val_score: 2117187876.141244:  43%|####2     | 3/7 [00:06<00:09,  2.27s/it]\u001b[32m[I 2021-07-05 21:28:44,930]\u001b[0m Trial 2 finished with value: 2117187876.141244 and parameters: {'feature_fraction': 0.5}. Best is trial 2 with value: 2117187876.141244.\u001b[0m\n",
      "feature_fraction, val_score: 2117187876.141244:  57%|#####7    | 4/7 [00:09<00:06,  2.29s/it]\u001b[32m[I 2021-07-05 21:28:47,261]\u001b[0m Trial 3 finished with value: 2189637316.6392884 and parameters: {'feature_fraction': 0.8}. Best is trial 2 with value: 2117187876.141244.\u001b[0m\n",
      "feature_fraction, val_score: 2117187876.141244:  71%|#######1  | 5/7 [00:11<00:04,  2.37s/it]\u001b[32m[I 2021-07-05 21:28:49,822]\u001b[0m Trial 4 finished with value: 2151206918.1741548 and parameters: {'feature_fraction': 0.6}. Best is trial 2 with value: 2117187876.141244.\u001b[0m\n",
      "feature_fraction, val_score: 2117187876.141244:  86%|########5 | 6/7 [00:13<00:02,  2.34s/it]\u001b[32m[I 2021-07-05 21:28:52,100]\u001b[0m Trial 5 finished with value: 2138160321.4704895 and parameters: {'feature_fraction': 0.8999999999999999}. Best is trial 2 with value: 2117187876.141244.\u001b[0m\n",
      "feature_fraction, val_score: 2117187876.141244: 100%|##########| 7/7 [00:16<00:00,  2.27s/it]\u001b[32m[I 2021-07-05 21:28:54,206]\u001b[0m Trial 6 finished with value: 2377441824.5412903 and parameters: {'feature_fraction': 0.4}. Best is trial 2 with value: 2117187876.141244.\u001b[0m\n",
      "feature_fraction, val_score: 2117187876.141244: 100%|##########| 7/7 [00:16<00:00,  2.29s/it]\n",
      "num_leaves, val_score: 2117187876.141244:   5%|5         | 1/20 [00:05<01:52,  5.91s/it]\u001b[32m[I 2021-07-05 21:29:00,121]\u001b[0m Trial 7 finished with value: 2191383853.857281 and parameters: {'num_leaves': 126}. Best is trial 7 with value: 2191383853.857281.\u001b[0m\n",
      "num_leaves, val_score: 2117187876.141244:  10%|#         | 2/20 [00:09<01:36,  5.34s/it]\u001b[32m[I 2021-07-05 21:29:04,142]\u001b[0m Trial 8 finished with value: 2149956661.8866906 and parameters: {'num_leaves': 77}. Best is trial 8 with value: 2149956661.8866906.\u001b[0m\n",
      "num_leaves, val_score: 2117187876.141244:  15%|#5        | 3/20 [00:18<01:45,  6.20s/it]\u001b[32m[I 2021-07-05 21:29:12,358]\u001b[0m Trial 9 finished with value: 2225083950.481145 and parameters: {'num_leaves': 183}. Best is trial 8 with value: 2149956661.8866906.\u001b[0m\n",
      "num_leaves, val_score: 2117187876.141244:  20%|##        | 4/20 [00:18<01:12,  4.54s/it]\u001b[32m[I 2021-07-05 21:29:13,025]\u001b[0m Trial 10 finished with value: 3534724136.974104 and parameters: {'num_leaves': 2}. Best is trial 8 with value: 2149956661.8866906.\u001b[0m\n",
      "num_leaves, val_score: 2117187876.141244:  25%|##5       | 5/20 [00:29<01:37,  6.50s/it]\u001b[32m[I 2021-07-05 21:29:24,101]\u001b[0m Trial 11 finished with value: 2236131896.577984 and parameters: {'num_leaves': 247}. Best is trial 8 with value: 2149956661.8866906.\u001b[0m\n",
      "num_leaves, val_score: 2117187876.141244:  30%|###       | 6/20 [00:30<01:07,  4.86s/it]\u001b[32m[I 2021-07-05 21:29:25,111]\u001b[0m Trial 12 finished with value: 2376044448.220813 and parameters: {'num_leaves': 7}. Best is trial 8 with value: 2149956661.8866906.\u001b[0m\n",
      "num_leaves, val_score: 2117187876.141244:  35%|###5      | 7/20 [00:41<01:25,  6.61s/it]\u001b[32m[I 2021-07-05 21:29:35,822]\u001b[0m Trial 13 finished with value: 2269139369.15319 and parameters: {'num_leaves': 238}. Best is trial 8 with value: 2149956661.8866906.\u001b[0m\n",
      "num_leaves, val_score: 2117187876.141244:  40%|####      | 8/20 [00:45<01:09,  5.75s/it]\u001b[32m[I 2021-07-05 21:29:39,574]\u001b[0m Trial 14 finished with value: 2124626007.4139452 and parameters: {'num_leaves': 74}. Best is trial 14 with value: 2124626007.4139452.\u001b[0m\n",
      "num_leaves, val_score: 2117187876.141244:  45%|####5     | 9/20 [00:48<00:54,  5.00s/it]\u001b[32m[I 2021-07-05 21:29:42,794]\u001b[0m Trial 15 finished with value: 2142792798.421092 and parameters: {'num_leaves': 60}. Best is trial 14 with value: 2124626007.4139452.\u001b[0m\n",
      "num_leaves, val_score: 2117187876.141244:  50%|#####     | 10/20 [00:52<00:47,  4.71s/it]\u001b[32m[I 2021-07-05 21:29:46,831]\u001b[0m Trial 16 finished with value: 2152356417.827532 and parameters: {'num_leaves': 79}. Best is trial 14 with value: 2124626007.4139452.\u001b[0m\n",
      "num_leaves, val_score: 2117187876.141244:  55%|#####5    | 11/20 [00:59<00:47,  5.24s/it]\u001b[32m[I 2021-07-05 21:29:53,310]\u001b[0m Trial 17 finished with value: 2232975677.7300673 and parameters: {'num_leaves': 141}. Best is trial 14 with value: 2124626007.4139452.\u001b[0m\n",
      "num_leaves, val_score: 2117187876.141244:  60%|######    | 12/20 [01:01<00:35,  4.40s/it]\u001b[32m[I 2021-07-05 21:29:55,757]\u001b[0m Trial 18 finished with value: 2134193244.6764977 and parameters: {'num_leaves': 34}. Best is trial 14 with value: 2124626007.4139452.\u001b[0m\n",
      "num_leaves, val_score: 2117187876.141244:  65%|######5   | 13/20 [01:07<00:33,  4.78s/it]\u001b[32m[I 2021-07-05 21:30:01,418]\u001b[0m Trial 19 finished with value: 2154669371.5890207 and parameters: {'num_leaves': 127}. Best is trial 14 with value: 2124626007.4139452.\u001b[0m\n",
      "num_leaves, val_score: 2117187876.141244:  70%|#######   | 14/20 [01:16<00:36,  6.04s/it]\u001b[32m[I 2021-07-05 21:30:10,413]\u001b[0m Trial 20 finished with value: 2244480461.6616497 and parameters: {'num_leaves': 197}. Best is trial 14 with value: 2124626007.4139452.\u001b[0m\n",
      "num_leaves, val_score: 2117187876.141244:  75%|#######5  | 15/20 [01:18<00:25,  5.04s/it]\u001b[32m[I 2021-07-05 21:30:13,123]\u001b[0m Trial 21 finished with value: 2123497315.5221982 and parameters: {'num_leaves': 46}. Best is trial 21 with value: 2123497315.5221982.\u001b[0m\n",
      "num_leaves, val_score: 2117187876.141244:  80%|########  | 16/20 [01:21<00:17,  4.37s/it]\u001b[32m[I 2021-07-05 21:30:15,909]\u001b[0m Trial 22 finished with value: 2144353280.9911807 and parameters: {'num_leaves': 49}. Best is trial 21 with value: 2123497315.5221982.\u001b[0m\n",
      "num_leaves, val_score: 2117187876.141244:  85%|########5 | 17/20 [01:26<00:13,  4.52s/it]\u001b[32m[I 2021-07-05 21:30:20,779]\u001b[0m Trial 23 finished with value: 2214270458.9562073 and parameters: {'num_leaves': 99}. Best is trial 21 with value: 2123497315.5221982.\u001b[0m\n",
      "num_leaves, val_score: 2117187876.141244:  90%|######### | 18/20 [01:28<00:07,  3.67s/it]\u001b[32m[I 2021-07-05 21:30:22,474]\u001b[0m Trial 24 finished with value: 2205160326.4361672 and parameters: {'num_leaves': 18}. Best is trial 21 with value: 2123497315.5221982.\u001b[0m\n",
      "num_leaves, val_score: 2117187876.141244:  95%|#########5| 19/20 [01:33<00:04,  4.01s/it]\u001b[32m[I 2021-07-05 21:30:27,276]\u001b[0m Trial 25 finished with value: 2134361887.133432 and parameters: {'num_leaves': 98}. Best is trial 21 with value: 2123497315.5221982.\u001b[0m\n",
      "num_leaves, val_score: 2117187876.141244: 100%|##########| 20/20 [01:35<00:00,  3.55s/it]\u001b[32m[I 2021-07-05 21:30:29,738]\u001b[0m Trial 26 finished with value: 2130123601.094995 and parameters: {'num_leaves': 37}. Best is trial 21 with value: 2123497315.5221982.\u001b[0m\n",
      "num_leaves, val_score: 2117187876.141244: 100%|##########| 20/20 [01:35<00:00,  4.78s/it]\n",
      "bagging, val_score: 2117187876.141244:  10%|#         | 1/10 [00:03<00:27,  3.06s/it]\u001b[32m[I 2021-07-05 21:30:32,803]\u001b[0m Trial 27 finished with value: 2125874299.0742989 and parameters: {'bagging_fraction': 0.9692714435807366, 'bagging_freq': 3}. Best is trial 27 with value: 2125874299.0742989.\u001b[0m\n",
      "bagging, val_score: 2117187876.141244:  20%|##        | 2/10 [00:07<00:26,  3.36s/it]\u001b[32m[I 2021-07-05 21:30:36,872]\u001b[0m Trial 28 finished with value: 2370419311.2735043 and parameters: {'bagging_fraction': 0.4234645375474666, 'bagging_freq': 7}. Best is trial 27 with value: 2125874299.0742989.\u001b[0m\n",
      "bagging, val_score: 2117187876.141244:  30%|###       | 3/10 [00:10<00:23,  3.40s/it]\u001b[32m[I 2021-07-05 21:30:40,349]\u001b[0m Trial 29 finished with value: 2208099661.6689687 and parameters: {'bagging_fraction': 0.6613687790215879, 'bagging_freq': 1}. Best is trial 27 with value: 2125874299.0742989.\u001b[0m\n",
      "bagging, val_score: 2117187876.141244:  40%|####      | 4/10 [00:13<00:19,  3.30s/it]\u001b[32m[I 2021-07-05 21:30:43,418]\u001b[0m Trial 30 finished with value: 2117187876.141244 and parameters: {'bagging_fraction': 0.9999683012924616, 'bagging_freq': 7}. Best is trial 30 with value: 2117187876.141244.\u001b[0m\n",
      "bagging, val_score: 2115568867.724168:  50%|#####     | 5/10 [00:16<00:16,  3.30s/it]\u001b[32m[I 2021-07-05 21:30:46,722]\u001b[0m Trial 31 finished with value: 2115568867.7241678 and parameters: {'bagging_fraction': 0.9964296479647067, 'bagging_freq': 7}. Best is trial 31 with value: 2115568867.7241678.\u001b[0m\n",
      "bagging, val_score: 2115568867.724168:  60%|######    | 6/10 [00:20<00:12,  3.23s/it]\u001b[32m[I 2021-07-05 21:30:49,798]\u001b[0m Trial 32 finished with value: 2150269195.505991 and parameters: {'bagging_fraction': 0.9759357045544487, 'bagging_freq': 7}. Best is trial 31 with value: 2115568867.7241678.\u001b[0m\n",
      "bagging, val_score: 2101648882.407944:  70%|#######   | 7/10 [00:23<00:09,  3.22s/it]\u001b[32m[I 2021-07-05 21:30:52,995]\u001b[0m Trial 33 finished with value: 2101648882.4079442 and parameters: {'bagging_fraction': 0.9688628859440217, 'bagging_freq': 6}. Best is trial 33 with value: 2101648882.4079442.\u001b[0m\n",
      "bagging, val_score: 2096420646.203354:  80%|########  | 8/10 [00:26<00:06,  3.16s/it]\u001b[32m[I 2021-07-05 21:30:56,000]\u001b[0m Trial 34 finished with value: 2096420646.2033536 and parameters: {'bagging_fraction': 0.979629169809919, 'bagging_freq': 7}. Best is trial 34 with value: 2096420646.2033536.\u001b[0m\n",
      "bagging, val_score: 2096420646.203354:  90%|######### | 9/10 [00:29<00:03,  3.22s/it]\u001b[32m[I 2021-07-05 21:30:59,379]\u001b[0m Trial 35 finished with value: 2132480344.1207225 and parameters: {'bagging_fraction': 0.8386761284757251, 'bagging_freq': 5}. Best is trial 34 with value: 2096420646.2033536.\u001b[0m\n",
      "bagging, val_score: 2096420646.203354: 100%|##########| 10/10 [00:33<00:00,  3.28s/it]\u001b[32m[I 2021-07-05 21:31:02,786]\u001b[0m Trial 36 finished with value: 2132459151.397429 and parameters: {'bagging_fraction': 0.8590663694156698, 'bagging_freq': 5}. Best is trial 34 with value: 2096420646.2033536.\u001b[0m\n",
      "bagging, val_score: 2096420646.203354: 100%|##########| 10/10 [00:33<00:00,  3.30s/it]\n",
      "feature_fraction_stage2, val_score: 2096420646.203354:  17%|#6        | 1/6 [00:03<00:17,  3.48s/it]\u001b[32m[I 2021-07-05 21:31:06,276]\u001b[0m Trial 37 finished with value: 2396725444.1313095 and parameters: {'feature_fraction': 0.42}. Best is trial 37 with value: 2396725444.1313095.\u001b[0m\n",
      "feature_fraction_stage2, val_score: 2096420646.203354:  33%|###3      | 2/6 [00:06<00:13,  3.40s/it]\u001b[32m[I 2021-07-05 21:31:09,492]\u001b[0m Trial 38 finished with value: 2134153948.6305988 and parameters: {'feature_fraction': 0.58}. Best is trial 38 with value: 2134153948.6305988.\u001b[0m\n",
      "feature_fraction_stage2, val_score: 2096420646.203354:  50%|#####     | 3/6 [00:09<00:10,  3.37s/it]\u001b[32m[I 2021-07-05 21:31:12,791]\u001b[0m Trial 39 finished with value: 2096420646.2033536 and parameters: {'feature_fraction': 0.484}. Best is trial 39 with value: 2096420646.2033536.\u001b[0m\n",
      "feature_fraction_stage2, val_score: 2096420646.203354:  67%|######6   | 4/6 [00:13<00:06,  3.32s/it]\u001b[32m[I 2021-07-05 21:31:15,987]\u001b[0m Trial 40 finished with value: 2096420646.2033536 and parameters: {'feature_fraction': 0.45199999999999996}. Best is trial 39 with value: 2096420646.2033536.\u001b[0m\n",
      "feature_fraction_stage2, val_score: 2096420646.203354:  83%|########3 | 5/6 [00:16<00:03,  3.24s/it]\u001b[32m[I 2021-07-05 21:31:19,058]\u001b[0m Trial 41 finished with value: 2096420646.2033536 and parameters: {'feature_fraction': 0.516}. Best is trial 39 with value: 2096420646.2033536.\u001b[0m\n",
      "feature_fraction_stage2, val_score: 2096420646.203354: 100%|##########| 6/6 [00:19<00:00,  3.33s/it]\u001b[32m[I 2021-07-05 21:31:22,587]\u001b[0m Trial 42 finished with value: 2096420646.2033536 and parameters: {'feature_fraction': 0.5479999999999999}. Best is trial 39 with value: 2096420646.2033536.\u001b[0m\n",
      "feature_fraction_stage2, val_score: 2096420646.203354: 100%|##########| 6/6 [00:19<00:00,  3.30s/it]\n",
      "regularization_factors, val_score: 2096420646.203354:   5%|5         | 1/20 [00:03<01:02,  3.29s/it]\u001b[32m[I 2021-07-05 21:31:25,888]\u001b[0m Trial 43 finished with value: 2121304404.889088 and parameters: {'lambda_l1': 9.072358168596752, 'lambda_l2': 1.0091857712018092e-06}. Best is trial 43 with value: 2121304404.889088.\u001b[0m\n",
      "regularization_factors, val_score: 2096420646.203354:  10%|#         | 2/20 [00:06<01:00,  3.39s/it]\u001b[32m[I 2021-07-05 21:31:29,491]\u001b[0m Trial 44 finished with value: 2134561787.224007 and parameters: {'lambda_l1': 1.747711493373518e-08, 'lambda_l2': 5.0024299741033404}. Best is trial 43 with value: 2121304404.889088.\u001b[0m\n",
      "regularization_factors, val_score: 2096420646.203354:  15%|#5        | 3/20 [00:10<00:58,  3.44s/it]\u001b[32m[I 2021-07-05 21:31:33,070]\u001b[0m Trial 45 finished with value: 2139544604.273054 and parameters: {'lambda_l1': 0.0004511515965070534, 'lambda_l2': 1.479266611618771}. Best is trial 43 with value: 2121304404.889088.\u001b[0m\n",
      "regularization_factors, val_score: 2096420646.203354:  20%|##        | 4/20 [00:13<00:54,  3.39s/it]\u001b[32m[I 2021-07-05 21:31:36,328]\u001b[0m Trial 46 finished with value: 2121304156.346164 and parameters: {'lambda_l1': 2.926105413557839, 'lambda_l2': 0.0005430687666201676}. Best is trial 46 with value: 2121304156.346164.\u001b[0m\n",
      "regularization_factors, val_score: 2096420645.743718:  25%|##5       | 5/20 [00:17<00:50,  3.40s/it]\u001b[32m[I 2021-07-05 21:31:39,752]\u001b[0m Trial 47 finished with value: 2096420645.7437177 and parameters: {'lambda_l1': 1.3850165686178662e-08, 'lambda_l2': 6.151939154723471e-08}. Best is trial 47 with value: 2096420645.7437177.\u001b[0m\n",
      "regularization_factors, val_score: 2096420645.249254:  30%|###       | 6/20 [00:20<00:48,  3.46s/it]\u001b[32m[I 2021-07-05 21:31:43,360]\u001b[0m Trial 48 finished with value: 2096420645.2492537 and parameters: {'lambda_l1': 1.1489694786433056e-08, 'lambda_l2': 1.2587655884507733e-07}. Best is trial 48 with value: 2096420645.2492537.\u001b[0m\n",
      "regularization_factors, val_score: 2096420645.249254:  35%|###5      | 7/20 [00:23<00:43,  3.38s/it]\u001b[32m[I 2021-07-05 21:31:46,554]\u001b[0m Trial 49 finished with value: 2096420646.1536174 and parameters: {'lambda_l1': 1.0286693725316135e-08, 'lambda_l2': 1.711081836510768e-08}. Best is trial 48 with value: 2096420645.2492537.\u001b[0m\n",
      "regularization_factors, val_score: 2096420645.249254:  40%|####      | 8/20 [00:27<00:41,  3.44s/it]\u001b[32m[I 2021-07-05 21:31:50,140]\u001b[0m Trial 50 finished with value: 2096420645.98422 and parameters: {'lambda_l1': 1.2971105420899112e-08, 'lambda_l2': 2.5654742396744724e-08}. Best is trial 48 with value: 2096420645.2492537.\u001b[0m\n",
      "regularization_factors, val_score: 2096420645.249254:  45%|####5     | 9/20 [00:31<00:37,  3.45s/it]\u001b[32m[I 2021-07-05 21:31:53,617]\u001b[0m Trial 51 finished with value: 2096420646.1804066 and parameters: {'lambda_l1': 1.0126600229034551e-08, 'lambda_l2': 1.1869465236724064e-08}. Best is trial 48 with value: 2096420645.2492537.\u001b[0m\n",
      "regularization_factors, val_score: 2096420645.249254:  50%|#####     | 10/20 [00:34<00:34,  3.43s/it]\u001b[32m[I 2021-07-05 21:31:57,013]\u001b[0m Trial 52 finished with value: 2096420646.1636028 and parameters: {'lambda_l1': 1.5308484334604086e-08, 'lambda_l2': 1.1013881947020285e-08}. Best is trial 48 with value: 2096420645.2492537.\u001b[0m\n",
      "regularization_factors, val_score: 2096420645.249254:  55%|#####5    | 11/20 [00:37<00:30,  3.34s/it]\u001b[32m[I 2021-07-05 21:32:00,134]\u001b[0m Trial 53 finished with value: 2096420646.121304 and parameters: {'lambda_l1': 1.0868588478411083e-08, 'lambda_l2': 1.1231796360442551e-08}. Best is trial 48 with value: 2096420645.2492537.\u001b[0m\n",
      "regularization_factors, val_score: 2096420645.249254:  60%|######    | 12/20 [00:40<00:26,  3.32s/it]\u001b[32m[I 2021-07-05 21:32:03,404]\u001b[0m Trial 54 finished with value: 2096420646.1574202 and parameters: {'lambda_l1': 1.1088644369388638e-08, 'lambda_l2': 1.7683659564807014e-08}. Best is trial 48 with value: 2096420645.2492537.\u001b[0m\n",
      "regularization_factors, val_score: 2096420645.249254:  65%|######5   | 13/20 [00:43<00:22,  3.22s/it]\u001b[32m[I 2021-07-05 21:32:06,375]\u001b[0m Trial 55 finished with value: 2096420645.8914769 and parameters: {'lambda_l1': 1.0310969874654143e-08, 'lambda_l2': 3.06782930915099e-08}. Best is trial 48 with value: 2096420645.2492537.\u001b[0m\n",
      "regularization_factors, val_score: 2096420645.115927:  70%|#######   | 14/20 [00:46<00:19,  3.18s/it]\u001b[32m[I 2021-07-05 21:32:09,482]\u001b[0m Trial 56 finished with value: 2096420645.1159265 and parameters: {'lambda_l1': 1.4311122578392792e-07, 'lambda_l2': 1.6797942259006154e-07}. Best is trial 56 with value: 2096420645.1159265.\u001b[0m\n",
      "regularization_factors, val_score: 2096420642.744563:  75%|#######5  | 15/20 [00:50<00:16,  3.22s/it]\u001b[32m[I 2021-07-05 21:32:12,801]\u001b[0m Trial 57 finished with value: 2096420642.7445629 and parameters: {'lambda_l1': 6.427566059857431e-07, 'lambda_l2': 9.785366789752025e-07}. Best is trial 57 with value: 2096420642.7445629.\u001b[0m\n",
      "regularization_factors, val_score: 2096420642.151371:  80%|########  | 16/20 [00:53<00:12,  3.20s/it]\u001b[32m[I 2021-07-05 21:32:15,936]\u001b[0m Trial 58 finished with value: 2096420642.1513708 and parameters: {'lambda_l1': 1.1562899794338677e-06, 'lambda_l2': 1.129179911751905e-06}. Best is trial 58 with value: 2096420642.1513708.\u001b[0m\n",
      "regularization_factors, val_score: 2096420641.534436:  85%|########5 | 17/20 [00:56<00:09,  3.19s/it]\u001b[32m[I 2021-07-05 21:32:19,123]\u001b[0m Trial 59 finished with value: 2096420641.5344365 and parameters: {'lambda_l1': 7.206658829114913e-07, 'lambda_l2': 1.273233143946506e-06}. Best is trial 59 with value: 2096420641.5344365.\u001b[0m\n",
      "regularization_factors, val_score: 2096420639.588866:  90%|######### | 18/20 [00:59<00:06,  3.20s/it]\u001b[32m[I 2021-07-05 21:32:22,329]\u001b[0m Trial 60 finished with value: 2096420639.5888662 and parameters: {'lambda_l1': 1.5863621976103507e-06, 'lambda_l2': 1.7890881242665698e-06}. Best is trial 60 with value: 2096420639.5888662.\u001b[0m\n",
      "regularization_factors, val_score: 2096420639.588866:  95%|#########5| 19/20 [01:02<00:03,  3.17s/it]\u001b[32m[I 2021-07-05 21:32:25,424]\u001b[0m Trial 61 finished with value: 2096420640.733223 and parameters: {'lambda_l1': 1.697124185642681e-06, 'lambda_l2': 1.456683481692115e-06}. Best is trial 60 with value: 2096420639.5888662.\u001b[0m\n",
      "regularization_factors, val_score: 2096420633.967784: 100%|##########| 20/20 [01:06<00:00,  3.18s/it]\u001b[32m[I 2021-07-05 21:32:28,641]\u001b[0m Trial 62 finished with value: 2096420633.9677844 and parameters: {'lambda_l1': 1.737400015368519e-06, 'lambda_l2': 2.972059652752666e-06}. Best is trial 62 with value: 2096420633.9677844.\u001b[0m\n",
      "regularization_factors, val_score: 2096420633.967784: 100%|##########| 20/20 [01:06<00:00,  3.30s/it]\n",
      "min_data_in_leaf, val_score: 2096420633.967784:  20%|##        | 1/5 [00:04<00:19,  4.83s/it]\u001b[32m[I 2021-07-05 21:32:33,488]\u001b[0m Trial 63 finished with value: 2181431846.8115406 and parameters: {'min_child_samples': 100}. Best is trial 63 with value: 2181431846.8115406.\u001b[0m\n",
      "min_data_in_leaf, val_score: 2096420633.967784:  40%|####      | 2/5 [00:08<00:13,  4.44s/it]\u001b[32m[I 2021-07-05 21:32:37,001]\u001b[0m Trial 64 finished with value: 2123190268.4257865 and parameters: {'min_child_samples': 25}. Best is trial 64 with value: 2123190268.4257865.\u001b[0m\n",
      "min_data_in_leaf, val_score: 2096420633.967784:  60%|######    | 3/5 [00:12<00:08,  4.40s/it]\u001b[32m[I 2021-07-05 21:32:41,304]\u001b[0m Trial 65 finished with value: 2166011867.7797937 and parameters: {'min_child_samples': 50}. Best is trial 64 with value: 2123190268.4257865.\u001b[0m\n",
      "min_data_in_leaf, val_score: 2096420633.967784:  80%|########  | 4/5 [00:15<00:03,  3.88s/it]\u001b[32m[I 2021-07-05 21:32:43,994]\u001b[0m Trial 66 finished with value: 2121595712.6265838 and parameters: {'min_child_samples': 10}. Best is trial 66 with value: 2121595712.6265838.\u001b[0m\n",
      "min_data_in_leaf, val_score: 2093562905.872276: 100%|##########| 5/5 [00:18<00:00,  3.59s/it]\u001b[32m[I 2021-07-05 21:32:46,886]\u001b[0m Trial 67 finished with value: 2093562905.8722756 and parameters: {'min_child_samples': 5}. Best is trial 67 with value: 2093562905.8722756.\u001b[0m\n",
      "min_data_in_leaf, val_score: 2093562905.872276: 100%|##########| 5/5 [00:18<00:00,  3.65s/it]CPU times: user 4min 4s, sys: 2.46 s, total: 4min 6s\n",
      "Wall time: 4min 8s\n",
      "\n"
     ]
    }
   ],
   "source": [
    "%%time\n",
    "model = lgb.train(params, dtrain, valid_sets=[dtrain, dval], verbose_eval=10000)        \n"
   ]
  },
  {
   "cell_type": "markdown",
   "metadata": {},
   "source": []
  },
  {
   "cell_type": "code",
   "execution_count": 36,
   "metadata": {
    "tags": []
   },
   "outputs": [
    {
     "output_type": "stream",
     "name": "stdout",
     "text": [
      "Optuna LightGBM Tuner r2 = 0.8388461291626945\n"
     ]
    }
   ],
   "source": [
    "y_pred = model.predict(X_test)\n",
    "from flaml.ml import sklearn_metric_loss_score\n",
    "print('Optuna LightGBM Tuner r2', '=', 1 - sklearn_metric_loss_score('r2', y_pred, y_test))"
   ]
  },
  {
   "cell_type": "markdown",
   "metadata": {},
   "source": [
    "## 4. Add a customized LightGBM learner in FLAML\n",
    "The native API of LightGBM allows one to specify a custom objective function in the model constructor. You can easily enable it by adding a customized LightGBM learner in FLAML. In the following example, we show how to add such a customized LightGBM learner with a custom objective function."
   ]
  },
  {
   "cell_type": "markdown",
   "metadata": {},
   "source": [
    "### Create a customized LightGBM learner with a custom objective function"
   ]
  },
  {
   "cell_type": "code",
   "execution_count": 33,
   "metadata": {},
   "outputs": [],
   "source": [
    "\n",
    "import numpy as np \n",
    "\n",
    "''' define your customized objective function '''\n",
    "def my_loss_obj(y_true, y_pred):\n",
    "    c = 0.5\n",
    "    residual = y_pred - y_true\n",
    "    grad = c * residual /(np.abs(residual) + c)\n",
    "    hess = c ** 2 / (np.abs(residual) + c) ** 2\n",
    "    # rmse grad and hess\n",
    "    grad_rmse = residual\n",
    "    hess_rmse = 1.0\n",
    "    \n",
    "    # mae grad and hess\n",
    "    grad_mae = np.array(residual)\n",
    "    grad_mae[grad_mae > 0] = 1.\n",
    "    grad_mae[grad_mae <= 0] = -1.\n",
    "    hess_mae = 1.0\n",
    "\n",
    "    coef = [0.4, 0.3, 0.3]\n",
    "    return coef[0] * grad + coef[1] * grad_rmse + coef[2] * grad_mae, \\\n",
    "        coef[0] * hess + coef[1] * hess_rmse + coef[2] * hess_mae\n",
    "\n",
    "\n",
    "from flaml.model import LGBMEstimator\n",
    "\n",
    "''' create a customized LightGBM learner class with your objective function '''\n",
    "class MyLGBM(LGBMEstimator):\n",
    "    '''LGBMEstimator with my_loss_obj as the objective function\n",
    "    '''\n",
    "\n",
    "    def __init__(self, **params):\n",
    "        super().__init__(objective=my_loss_obj, **params)"
   ]
  },
  {
   "cell_type": "markdown",
   "metadata": {},
   "source": [
    "### Add the customized learner in FLAML"
   ]
  },
  {
   "cell_type": "code",
   "execution_count": 34,
   "metadata": {
    "tags": []
   },
   "outputs": [
    {
     "output_type": "stream",
     "name": "stderr",
     "text": [
      "[flaml.automl: 07-05 21:32:47] {908} INFO - Evaluation method: cv\n",
      "[flaml.automl: 07-05 21:32:47] {617} INFO - Using RepeatedKFold\n",
      "[flaml.automl: 07-05 21:32:47] {929} INFO - Minimizing error metric: 1-r2\n",
      "[flaml.automl: 07-05 21:32:47] {948} INFO - List of ML learners in AutoML Run: ['my_lgbm']\n",
      "[flaml.automl: 07-05 21:32:47] {1006} INFO - iteration 0, current learner my_lgbm\n",
      "[flaml.automl: 07-05 21:32:47] {1152} INFO -  at 0.5s,\tbest my_lgbm's error=2.9888,\tbest my_lgbm's error=2.9888\n",
      "[flaml.automl: 07-05 21:32:47] {1006} INFO - iteration 1, current learner my_lgbm\n",
      "[flaml.automl: 07-05 21:32:48] {1152} INFO -  at 0.6s,\tbest my_lgbm's error=2.9888,\tbest my_lgbm's error=2.9888\n",
      "[flaml.automl: 07-05 21:32:48] {1006} INFO - iteration 2, current learner my_lgbm\n",
      "[flaml.automl: 07-05 21:32:48] {1152} INFO -  at 0.9s,\tbest my_lgbm's error=1.7536,\tbest my_lgbm's error=1.7536\n",
      "[flaml.automl: 07-05 21:32:48] {1006} INFO - iteration 3, current learner my_lgbm\n",
      "[flaml.automl: 07-05 21:32:48] {1152} INFO -  at 1.3s,\tbest my_lgbm's error=0.4529,\tbest my_lgbm's error=0.4529\n",
      "[flaml.automl: 07-05 21:32:48] {1006} INFO - iteration 4, current learner my_lgbm\n",
      "[flaml.automl: 07-05 21:32:48] {1152} INFO -  at 1.5s,\tbest my_lgbm's error=0.4529,\tbest my_lgbm's error=0.4529\n",
      "[flaml.automl: 07-05 21:32:48] {1006} INFO - iteration 5, current learner my_lgbm\n",
      "[flaml.automl: 07-05 21:32:49] {1152} INFO -  at 1.6s,\tbest my_lgbm's error=0.4529,\tbest my_lgbm's error=0.4529\n",
      "[flaml.automl: 07-05 21:32:49] {1006} INFO - iteration 6, current learner my_lgbm\n",
      "[flaml.automl: 07-05 21:32:49] {1152} INFO -  at 2.1s,\tbest my_lgbm's error=0.3159,\tbest my_lgbm's error=0.3159\n",
      "[flaml.automl: 07-05 21:32:49] {1006} INFO - iteration 7, current learner my_lgbm\n",
      "[flaml.automl: 07-05 21:32:49] {1152} INFO -  at 2.5s,\tbest my_lgbm's error=0.2717,\tbest my_lgbm's error=0.2717\n",
      "[flaml.automl: 07-05 21:32:49] {1006} INFO - iteration 8, current learner my_lgbm\n",
      "[flaml.automl: 07-05 21:32:50] {1152} INFO -  at 2.7s,\tbest my_lgbm's error=0.2717,\tbest my_lgbm's error=0.2717\n",
      "[flaml.automl: 07-05 21:32:50] {1006} INFO - iteration 9, current learner my_lgbm\n",
      "[flaml.automl: 07-05 21:32:50] {1152} INFO -  at 3.3s,\tbest my_lgbm's error=0.2073,\tbest my_lgbm's error=0.2073\n",
      "[flaml.automl: 07-05 21:32:50] {1006} INFO - iteration 10, current learner my_lgbm\n",
      "[flaml.automl: 07-05 21:32:51] {1152} INFO -  at 3.5s,\tbest my_lgbm's error=0.2073,\tbest my_lgbm's error=0.2073\n",
      "[flaml.automl: 07-05 21:32:51] {1006} INFO - iteration 11, current learner my_lgbm\n",
      "[flaml.automl: 07-05 21:32:51] {1152} INFO -  at 3.9s,\tbest my_lgbm's error=0.2073,\tbest my_lgbm's error=0.2073\n",
      "[flaml.automl: 07-05 21:32:51] {1006} INFO - iteration 12, current learner my_lgbm\n",
      "[flaml.automl: 07-05 21:32:52] {1152} INFO -  at 4.7s,\tbest my_lgbm's error=0.1883,\tbest my_lgbm's error=0.1883\n",
      "[flaml.automl: 07-05 21:32:52] {1006} INFO - iteration 13, current learner my_lgbm\n",
      "[flaml.automl: 07-05 21:32:52] {1152} INFO -  at 5.0s,\tbest my_lgbm's error=0.1883,\tbest my_lgbm's error=0.1883\n",
      "[flaml.automl: 07-05 21:32:52] {1006} INFO - iteration 14, current learner my_lgbm\n",
      "[flaml.automl: 07-05 21:32:53] {1152} INFO -  at 5.9s,\tbest my_lgbm's error=0.1883,\tbest my_lgbm's error=0.1883\n",
      "[flaml.automl: 07-05 21:32:53] {1006} INFO - iteration 15, current learner my_lgbm\n",
      "[flaml.automl: 07-05 21:32:53] {1152} INFO -  at 6.3s,\tbest my_lgbm's error=0.1883,\tbest my_lgbm's error=0.1883\n",
      "[flaml.automl: 07-05 21:32:53] {1006} INFO - iteration 16, current learner my_lgbm\n",
      "[flaml.automl: 07-05 21:32:54] {1152} INFO -  at 7.2s,\tbest my_lgbm's error=0.1878,\tbest my_lgbm's error=0.1878\n",
      "[flaml.automl: 07-05 21:32:54] {1006} INFO - iteration 17, current learner my_lgbm\n",
      "[flaml.automl: 07-05 21:32:55] {1152} INFO -  at 7.6s,\tbest my_lgbm's error=0.1878,\tbest my_lgbm's error=0.1878\n",
      "[flaml.automl: 07-05 21:32:55] {1006} INFO - iteration 18, current learner my_lgbm\n",
      "[flaml.automl: 07-05 21:32:56] {1152} INFO -  at 9.3s,\tbest my_lgbm's error=0.1878,\tbest my_lgbm's error=0.1878\n",
      "[flaml.automl: 07-05 21:32:56] {1006} INFO - iteration 19, current learner my_lgbm\n",
      "[flaml.automl: 07-05 21:32:57] {1152} INFO -  at 9.6s,\tbest my_lgbm's error=0.1878,\tbest my_lgbm's error=0.1878\n",
      "[flaml.automl: 07-05 21:32:57] {1006} INFO - iteration 20, current learner my_lgbm\n",
      "[flaml.automl: 07-05 21:33:00] {1152} INFO -  at 12.9s,\tbest my_lgbm's error=0.1878,\tbest my_lgbm's error=0.1878\n",
      "[flaml.automl: 07-05 21:33:00] {1006} INFO - iteration 21, current learner my_lgbm\n",
      "[flaml.automl: 07-05 21:33:01] {1152} INFO -  at 13.6s,\tbest my_lgbm's error=0.1878,\tbest my_lgbm's error=0.1878\n",
      "[flaml.automl: 07-05 21:33:01] {1006} INFO - iteration 22, current learner my_lgbm\n",
      "[flaml.automl: 07-05 21:33:02] {1152} INFO -  at 14.8s,\tbest my_lgbm's error=0.1751,\tbest my_lgbm's error=0.1751\n",
      "[flaml.automl: 07-05 21:33:02] {1006} INFO - iteration 23, current learner my_lgbm\n",
      "[flaml.automl: 07-05 21:33:02] {1152} INFO -  at 15.4s,\tbest my_lgbm's error=0.1751,\tbest my_lgbm's error=0.1751\n",
      "[flaml.automl: 07-05 21:33:02] {1006} INFO - iteration 24, current learner my_lgbm\n",
      "[flaml.automl: 07-05 21:33:04] {1152} INFO -  at 17.0s,\tbest my_lgbm's error=0.1751,\tbest my_lgbm's error=0.1751\n",
      "[flaml.automl: 07-05 21:33:04] {1006} INFO - iteration 25, current learner my_lgbm\n",
      "[flaml.automl: 07-05 21:33:04] {1152} INFO -  at 17.3s,\tbest my_lgbm's error=0.1751,\tbest my_lgbm's error=0.1751\n",
      "[flaml.automl: 07-05 21:33:04] {1006} INFO - iteration 26, current learner my_lgbm\n",
      "[flaml.automl: 07-05 21:33:11] {1152} INFO -  at 23.9s,\tbest my_lgbm's error=0.1660,\tbest my_lgbm's error=0.1660\n",
      "[flaml.automl: 07-05 21:33:11] {1006} INFO - iteration 27, current learner my_lgbm\n",
      "[flaml.automl: 07-05 21:33:14] {1152} INFO -  at 27.4s,\tbest my_lgbm's error=0.1660,\tbest my_lgbm's error=0.1660\n",
      "[flaml.automl: 07-05 21:33:14] {1006} INFO - iteration 28, current learner my_lgbm\n",
      "[flaml.automl: 07-05 21:33:22] {1152} INFO -  at 35.1s,\tbest my_lgbm's error=0.1660,\tbest my_lgbm's error=0.1660\n",
      "[flaml.automl: 07-05 21:33:22] {1006} INFO - iteration 29, current learner my_lgbm\n",
      "[flaml.automl: 07-05 21:33:23] {1152} INFO -  at 36.3s,\tbest my_lgbm's error=0.1660,\tbest my_lgbm's error=0.1660\n",
      "[flaml.automl: 07-05 21:33:23] {1006} INFO - iteration 30, current learner my_lgbm\n",
      "[flaml.automl: 07-05 21:33:57] {1152} INFO -  at 69.8s,\tbest my_lgbm's error=0.1634,\tbest my_lgbm's error=0.1634\n",
      "[flaml.automl: 07-05 21:33:57] {1006} INFO - iteration 31, current learner my_lgbm\n",
      "[flaml.automl: 07-05 21:34:02] {1152} INFO -  at 75.2s,\tbest my_lgbm's error=0.1634,\tbest my_lgbm's error=0.1634\n",
      "[flaml.automl: 07-05 21:34:02] {1006} INFO - iteration 32, current learner my_lgbm\n",
      "[flaml.automl: 07-05 21:34:30] {1152} INFO -  at 103.4s,\tbest my_lgbm's error=0.1611,\tbest my_lgbm's error=0.1611\n",
      "[flaml.automl: 07-05 21:34:30] {1198} INFO - selected model: LGBMRegressor(colsample_bytree=0.7688482528052621,\n",
      "              learning_rate=0.1733433791081217, max_bin=512,\n",
      "              min_child_samples=98, n_estimators=1516, num_leaves=26,\n",
      "              objective=<function my_loss_obj at 0x7fef1b69e820>,\n",
      "              reg_alpha=0.026256980419803243, reg_lambda=1.5567350977212402,\n",
      "              subsample=0.94353743444674)\n",
      "[flaml.automl: 07-05 21:34:30] {963} INFO - fit succeeded\n"
     ]
    }
   ],
   "source": [
    "automl = AutoML()\n",
    "automl.add_learner(learner_name='my_lgbm', learner_class=MyLGBM)\n",
    "settings = {\n",
    "    \"time_budget\": 120,  # total running time in seconds\n",
    "    \"metric\": 'r2',  # primary metrics for regression can be chosen from: ['mae','mse','r2']\n",
    "    \"estimator_list\": ['my_lgbm',],  # list of ML learners; we tune lightgbm in this example\n",
    "    \"task\": 'regression',  # task type    \n",
    "    \"log_file_name\": 'houses_experiment_my_lgbm.log',  # flaml log file\n",
    "}\n",
    "automl.fit(X_train=X_train, y_train=y_train, **settings)"
   ]
  },
  {
   "cell_type": "code",
   "execution_count": 35,
   "metadata": {
    "tags": []
   },
   "outputs": [
    {
     "output_type": "stream",
     "name": "stdout",
     "text": [
      "Best hyperparmeter config: {'n_estimators': 1516.0, 'num_leaves': 26.0, 'min_child_samples': 98.0, 'learning_rate': 0.1733433791081217, 'subsample': 0.94353743444674, 'log_max_bin': 10.0, 'colsample_bytree': 0.7688482528052621, 'reg_alpha': 0.026256980419803243, 'reg_lambda': 1.5567350977212402}\n",
      "Best r2 on validation data: 0.8389\n",
      "Training duration of best run: 28.22 s\n",
      "Predicted labels [139034.72098791 254152.8814857  154250.52168576 ... 203253.92751711\n",
      " 231764.04026937 282262.87207539]\n",
      "True labels [136900. 241300. 200700. ... 160900. 227300. 265600.]\n",
      "r2 = 0.8468233449743118\n",
      "mse = 2024766616.448606\n",
      "mae = 30028.40209024503\n"
     ]
    }
   ],
   "source": [
    "print('Best hyperparmeter config:', automl.best_config)\n",
    "print('Best r2 on validation data: {0:.4g}'.format(1-automl.best_loss))\n",
    "print('Training duration of best run: {0:.4g} s'.format(automl.best_config_train_time))\n",
    "\n",
    "y_pred = automl.predict(X_test)\n",
    "print('Predicted labels', y_pred)\n",
    "print('True labels', y_test)\n",
    "\n",
    "from flaml.ml import sklearn_metric_loss_score\n",
    "print('r2', '=', 1 - sklearn_metric_loss_score('r2', y_pred, y_test))\n",
    "print('mse', '=', sklearn_metric_loss_score('mse', y_pred, y_test))\n",
    "print('mae', '=', sklearn_metric_loss_score('mae', y_pred, y_test))"
   ]
  }
 ],
 "metadata": {
  "kernelspec": {
   "name": "python3",
   "display_name": "Python 3.8.10 64-bit ('py38': conda)"
  },
  "language_info": {
   "codemirror_mode": {
    "name": "ipython",
    "version": 3
   },
   "file_extension": ".py",
   "mimetype": "text/x-python",
   "name": "python",
   "nbconvert_exporter": "python",
   "pygments_lexer": "ipython3",
   "version": "3.8.10"
  },
  "interpreter": {
   "hash": "4502d015faca2560a557f35a41b6dd402f7fdfc08e843ae17a9c41947939f10c"
  }
 },
 "nbformat": 4,
 "nbformat_minor": 2
}